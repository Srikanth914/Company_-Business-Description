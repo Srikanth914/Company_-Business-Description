{
 "cells": [
  {
   "cell_type": "markdown",
   "metadata": {},
   "source": [
    "## Business Objective: Classification of US publicly listed companies based on business description Files Attached\n",
    " Company Business Description\n",
    "This file has the list of all US publicly listed companies. It has the company name, stock ticker and business description.\n",
    "\n",
    " Training Data\n",
    "This file has 2,000 US publicly listed companies which are categorized by certain tags mentioned in the column G. You will see lot of tags for one company. You need to worry about the first tag only. Ignore the rest of the tags.\n",
    "Note: You need to create new variable with first tag from column G variable it will be your target variable and business description will be feature variables.\n",
    "\n",
    "Analysis\n",
    "\n",
    "\n",
    "You will have to classify the companies mentioned in the ‚Company Business Description‛ file as per the tags mentioned in the ‚Training Data‛ file. As mentioned above please consider the first tags only and ignore the rest of the tags.\n",
    "Note: You need to build model using training data, classify the Companies in ‘Company Business description file.\n",
    "Key expectations (these steps need to be included as part of the processing):\n"
   ]
  },
  {
   "cell_type": "code",
   "execution_count": 1,
   "metadata": {
    "scrolled": true
   },
   "outputs": [
    {
     "name": "stderr",
     "output_type": "stream",
     "text": [
      "[nltk_data] Downloading package wordnet to C:\\Users\\kalluri\n",
      "[nltk_data]     bro's\\AppData\\Roaming\\nltk_data...\n",
      "[nltk_data]   Package wordnet is already up-to-date!\n",
      "[nltk_data] Downloading package stopwords to C:\\Users\\kalluri\n",
      "[nltk_data]     bro's\\AppData\\Roaming\\nltk_data...\n",
      "[nltk_data]   Package stopwords is already up-to-date!\n"
     ]
    }
   ],
   "source": [
    "#import the required libraries\n",
    "import pandas as pd\n",
    "import numpy as np\n",
    "import wordcloud\n",
    "import nltk\n",
    "from nltk.corpus import stopwords\n",
    "nltk.download('wordnet')\n",
    "nltk.download('stopwords')\n",
    "from sklearn.feature_extraction.text import CountVectorizer, TfidfVectorizer\n",
    "\n",
    "#from textblob import TextBlob\n",
    "from nltk.corpus import stopwords\n",
    "from nltk.stem.porter import PorterStemmer\n",
    "from nltk.stem import WordNetLemmatizer\n",
    "from nltk.tokenize import word_tokenize\n",
    "\n"
   ]
  },
  {
   "cell_type": "code",
   "execution_count": 206,
   "metadata": {},
   "outputs": [],
   "source": [
    "US = pd.read_excel('Training Data.xlsx')"
   ]
  },
  {
   "cell_type": "code",
   "execution_count": 207,
   "metadata": {},
   "outputs": [
    {
     "data": {
      "text/html": [
       "<div>\n",
       "<style scoped>\n",
       "    .dataframe tbody tr th:only-of-type {\n",
       "        vertical-align: middle;\n",
       "    }\n",
       "\n",
       "    .dataframe tbody tr th {\n",
       "        vertical-align: top;\n",
       "    }\n",
       "\n",
       "    .dataframe thead th {\n",
       "        text-align: right;\n",
       "    }\n",
       "</style>\n",
       "<table border=\"1\" class=\"dataframe\">\n",
       "  <thead>\n",
       "    <tr style=\"text-align: right;\">\n",
       "      <th></th>\n",
       "      <th>Unnamed: 0</th>\n",
       "      <th>Unnamed: 1</th>\n",
       "      <th>Unnamed: 2</th>\n",
       "      <th>Unnamed: 3</th>\n",
       "      <th>Unnamed: 4</th>\n",
       "      <th>Unnamed: 5</th>\n",
       "      <th>Unnamed: 6</th>\n",
       "      <th>Unnamed: 7</th>\n",
       "      <th>Unnamed: 8</th>\n",
       "    </tr>\n",
       "  </thead>\n",
       "  <tbody>\n",
       "    <tr>\n",
       "      <td>0</td>\n",
       "      <td>Company Name</td>\n",
       "      <td>Exchange:Ticker</td>\n",
       "      <td>Company Type</td>\n",
       "      <td>Company Status</td>\n",
       "      <td>Geographic Locations</td>\n",
       "      <td>Business Description</td>\n",
       "      <td>Industry Classifications</td>\n",
       "      <td>Security Tickers</td>\n",
       "      <td>NaN</td>\n",
       "    </tr>\n",
       "    <tr>\n",
       "      <td>1</td>\n",
       "      <td>024 Pharma, Inc. (OTCPK:EEIG)</td>\n",
       "      <td>OTCPK:EEIG</td>\n",
       "      <td>Public Company</td>\n",
       "      <td>Operating</td>\n",
       "      <td>United States of America (Primary)</td>\n",
       "      <td>024 Pharma, Inc. provides healthcare products ...</td>\n",
       "      <td>Beauty Care Products (Primary); Consumer Stapl...</td>\n",
       "      <td>OTCPK:EEIG</td>\n",
       "      <td>NaN</td>\n",
       "    </tr>\n",
       "    <tr>\n",
       "      <td>2</td>\n",
       "      <td>1-800-FLOWERS.COM, Inc. (NasdaqGS:FLWS)</td>\n",
       "      <td>NasdaqGS:FLWS</td>\n",
       "      <td>Public Company</td>\n",
       "      <td>Operating</td>\n",
       "      <td>United States of America (Primary)</td>\n",
       "      <td>1-800-Flowers.com, Inc., together with its sub...</td>\n",
       "      <td>Catalog Flowers, Gifts and Novelties (Primary)...</td>\n",
       "      <td>NasdaqGS:FLWS; DB:FWC</td>\n",
       "      <td>NaN</td>\n",
       "    </tr>\n",
       "    <tr>\n",
       "      <td>3</td>\n",
       "      <td>12 Retech Corporation (OTCPK:RETC)</td>\n",
       "      <td>OTCPK:RETC</td>\n",
       "      <td>Public Company</td>\n",
       "      <td>Operating</td>\n",
       "      <td>United States of America (Primary)</td>\n",
       "      <td>12 Retech Corporation, through its subsidiarie...</td>\n",
       "      <td>Information Technology (Primary); Internet Sof...</td>\n",
       "      <td>OTCPK:RETC</td>\n",
       "      <td>NaN</td>\n",
       "    </tr>\n",
       "    <tr>\n",
       "      <td>4</td>\n",
       "      <td>1347 Property Insurance Holdings, Inc. (Nasdaq...</td>\n",
       "      <td>NasdaqGM:PIH</td>\n",
       "      <td>Public Company</td>\n",
       "      <td>Operating</td>\n",
       "      <td>United States of America (Primary)</td>\n",
       "      <td>1347 Property Insurance Holdings, Inc., throug...</td>\n",
       "      <td>Casualty (Primary); Financials (Primary); Fire...</td>\n",
       "      <td>NasdaqGM:PIH</td>\n",
       "      <td>NaN</td>\n",
       "    </tr>\n",
       "  </tbody>\n",
       "</table>\n",
       "</div>"
      ],
      "text/plain": [
       "                                          Unnamed: 0       Unnamed: 1  \\\n",
       "0                                       Company Name  Exchange:Ticker   \n",
       "1                      024 Pharma, Inc. (OTCPK:EEIG)       OTCPK:EEIG   \n",
       "2            1-800-FLOWERS.COM, Inc. (NasdaqGS:FLWS)    NasdaqGS:FLWS   \n",
       "3                 12 Retech Corporation (OTCPK:RETC)       OTCPK:RETC   \n",
       "4  1347 Property Insurance Holdings, Inc. (Nasdaq...     NasdaqGM:PIH   \n",
       "\n",
       "       Unnamed: 2      Unnamed: 3                          Unnamed: 4  \\\n",
       "0    Company Type  Company Status                Geographic Locations   \n",
       "1  Public Company       Operating  United States of America (Primary)   \n",
       "2  Public Company       Operating  United States of America (Primary)   \n",
       "3  Public Company       Operating  United States of America (Primary)   \n",
       "4  Public Company       Operating  United States of America (Primary)   \n",
       "\n",
       "                                          Unnamed: 5  \\\n",
       "0                               Business Description   \n",
       "1  024 Pharma, Inc. provides healthcare products ...   \n",
       "2  1-800-Flowers.com, Inc., together with its sub...   \n",
       "3  12 Retech Corporation, through its subsidiarie...   \n",
       "4  1347 Property Insurance Holdings, Inc., throug...   \n",
       "\n",
       "                                          Unnamed: 6             Unnamed: 7  \\\n",
       "0                           Industry Classifications       Security Tickers   \n",
       "1  Beauty Care Products (Primary); Consumer Stapl...             OTCPK:EEIG   \n",
       "2  Catalog Flowers, Gifts and Novelties (Primary)...  NasdaqGS:FLWS; DB:FWC   \n",
       "3  Information Technology (Primary); Internet Sof...             OTCPK:RETC   \n",
       "4  Casualty (Primary); Financials (Primary); Fire...           NasdaqGM:PIH   \n",
       "\n",
       "  Unnamed: 8  \n",
       "0        NaN  \n",
       "1        NaN  \n",
       "2        NaN  \n",
       "3        NaN  \n",
       "4        NaN  "
      ]
     },
     "execution_count": 207,
     "metadata": {},
     "output_type": "execute_result"
    }
   ],
   "source": [
    "US.head()"
   ]
  },
  {
   "cell_type": "code",
   "execution_count": 208,
   "metadata": {},
   "outputs": [
    {
     "data": {
      "text/plain": [
       "<PandasArray>\n",
       "[            'Company Name',          'Exchange:Ticker',\n",
       "             'Company Type',           'Company Status',\n",
       "     'Geographic Locations',     'Business Description',\n",
       " 'Industry Classifications',         'Security Tickers',\n",
       "                        nan]\n",
       "Length: 9, dtype: object"
      ]
     },
     "execution_count": 208,
     "metadata": {},
     "output_type": "execute_result"
    }
   ],
   "source": [
    "pd.array(US.loc[0,:])"
   ]
  },
  {
   "cell_type": "code",
   "execution_count": 209,
   "metadata": {},
   "outputs": [],
   "source": [
    "US1 = US.loc[1:2003,]"
   ]
  },
  {
   "cell_type": "code",
   "execution_count": 210,
   "metadata": {},
   "outputs": [
    {
     "data": {
      "text/html": [
       "<div>\n",
       "<style scoped>\n",
       "    .dataframe tbody tr th:only-of-type {\n",
       "        vertical-align: middle;\n",
       "    }\n",
       "\n",
       "    .dataframe tbody tr th {\n",
       "        vertical-align: top;\n",
       "    }\n",
       "\n",
       "    .dataframe thead th {\n",
       "        text-align: right;\n",
       "    }\n",
       "</style>\n",
       "<table border=\"1\" class=\"dataframe\">\n",
       "  <thead>\n",
       "    <tr style=\"text-align: right;\">\n",
       "      <th></th>\n",
       "      <th>Unnamed: 0</th>\n",
       "      <th>Unnamed: 1</th>\n",
       "      <th>Unnamed: 2</th>\n",
       "      <th>Unnamed: 3</th>\n",
       "      <th>Unnamed: 4</th>\n",
       "      <th>Unnamed: 5</th>\n",
       "      <th>Unnamed: 6</th>\n",
       "      <th>Unnamed: 7</th>\n",
       "      <th>Unnamed: 8</th>\n",
       "    </tr>\n",
       "  </thead>\n",
       "  <tbody>\n",
       "    <tr>\n",
       "      <td>1</td>\n",
       "      <td>024 Pharma, Inc. (OTCPK:EEIG)</td>\n",
       "      <td>OTCPK:EEIG</td>\n",
       "      <td>Public Company</td>\n",
       "      <td>Operating</td>\n",
       "      <td>United States of America (Primary)</td>\n",
       "      <td>024 Pharma, Inc. provides healthcare products ...</td>\n",
       "      <td>Beauty Care Products (Primary); Consumer Stapl...</td>\n",
       "      <td>OTCPK:EEIG</td>\n",
       "      <td>NaN</td>\n",
       "    </tr>\n",
       "    <tr>\n",
       "      <td>2</td>\n",
       "      <td>1-800-FLOWERS.COM, Inc. (NasdaqGS:FLWS)</td>\n",
       "      <td>NasdaqGS:FLWS</td>\n",
       "      <td>Public Company</td>\n",
       "      <td>Operating</td>\n",
       "      <td>United States of America (Primary)</td>\n",
       "      <td>1-800-Flowers.com, Inc., together with its sub...</td>\n",
       "      <td>Catalog Flowers, Gifts and Novelties (Primary)...</td>\n",
       "      <td>NasdaqGS:FLWS; DB:FWC</td>\n",
       "      <td>NaN</td>\n",
       "    </tr>\n",
       "    <tr>\n",
       "      <td>3</td>\n",
       "      <td>12 Retech Corporation (OTCPK:RETC)</td>\n",
       "      <td>OTCPK:RETC</td>\n",
       "      <td>Public Company</td>\n",
       "      <td>Operating</td>\n",
       "      <td>United States of America (Primary)</td>\n",
       "      <td>12 Retech Corporation, through its subsidiarie...</td>\n",
       "      <td>Information Technology (Primary); Internet Sof...</td>\n",
       "      <td>OTCPK:RETC</td>\n",
       "      <td>NaN</td>\n",
       "    </tr>\n",
       "    <tr>\n",
       "      <td>4</td>\n",
       "      <td>1347 Property Insurance Holdings, Inc. (Nasdaq...</td>\n",
       "      <td>NasdaqGM:PIH</td>\n",
       "      <td>Public Company</td>\n",
       "      <td>Operating</td>\n",
       "      <td>United States of America (Primary)</td>\n",
       "      <td>1347 Property Insurance Holdings, Inc., throug...</td>\n",
       "      <td>Casualty (Primary); Financials (Primary); Fire...</td>\n",
       "      <td>NasdaqGM:PIH</td>\n",
       "      <td>NaN</td>\n",
       "    </tr>\n",
       "    <tr>\n",
       "      <td>5</td>\n",
       "      <td>1847 Holdings LLC (OTCPK:EFSH)</td>\n",
       "      <td>OTCPK:EFSH</td>\n",
       "      <td>Public Company</td>\n",
       "      <td>Operating</td>\n",
       "      <td>United States of America (Primary)</td>\n",
       "      <td>1847 Holdings LLC, through its subsidiaries, p...</td>\n",
       "      <td>Commercial and Professional Services (Primary)...</td>\n",
       "      <td>OTCPK:EFSH</td>\n",
       "      <td>NaN</td>\n",
       "    </tr>\n",
       "  </tbody>\n",
       "</table>\n",
       "</div>"
      ],
      "text/plain": [
       "                                          Unnamed: 0     Unnamed: 1  \\\n",
       "1                      024 Pharma, Inc. (OTCPK:EEIG)     OTCPK:EEIG   \n",
       "2            1-800-FLOWERS.COM, Inc. (NasdaqGS:FLWS)  NasdaqGS:FLWS   \n",
       "3                 12 Retech Corporation (OTCPK:RETC)     OTCPK:RETC   \n",
       "4  1347 Property Insurance Holdings, Inc. (Nasdaq...   NasdaqGM:PIH   \n",
       "5                     1847 Holdings LLC (OTCPK:EFSH)     OTCPK:EFSH   \n",
       "\n",
       "       Unnamed: 2 Unnamed: 3                          Unnamed: 4  \\\n",
       "1  Public Company  Operating  United States of America (Primary)   \n",
       "2  Public Company  Operating  United States of America (Primary)   \n",
       "3  Public Company  Operating  United States of America (Primary)   \n",
       "4  Public Company  Operating  United States of America (Primary)   \n",
       "5  Public Company  Operating  United States of America (Primary)   \n",
       "\n",
       "                                          Unnamed: 5  \\\n",
       "1  024 Pharma, Inc. provides healthcare products ...   \n",
       "2  1-800-Flowers.com, Inc., together with its sub...   \n",
       "3  12 Retech Corporation, through its subsidiarie...   \n",
       "4  1347 Property Insurance Holdings, Inc., throug...   \n",
       "5  1847 Holdings LLC, through its subsidiaries, p...   \n",
       "\n",
       "                                          Unnamed: 6             Unnamed: 7  \\\n",
       "1  Beauty Care Products (Primary); Consumer Stapl...             OTCPK:EEIG   \n",
       "2  Catalog Flowers, Gifts and Novelties (Primary)...  NasdaqGS:FLWS; DB:FWC   \n",
       "3  Information Technology (Primary); Internet Sof...             OTCPK:RETC   \n",
       "4  Casualty (Primary); Financials (Primary); Fire...           NasdaqGM:PIH   \n",
       "5  Commercial and Professional Services (Primary)...             OTCPK:EFSH   \n",
       "\n",
       "  Unnamed: 8  \n",
       "1        NaN  \n",
       "2        NaN  \n",
       "3        NaN  \n",
       "4        NaN  \n",
       "5        NaN  "
      ]
     },
     "execution_count": 210,
     "metadata": {},
     "output_type": "execute_result"
    }
   ],
   "source": [
    "US1.head()"
   ]
  },
  {
   "cell_type": "code",
   "execution_count": 211,
   "metadata": {},
   "outputs": [],
   "source": [
    "US1.columns= ['Company_Name','Exchange_Ticker','Company_Type','Company_Status','Geographic_Locations','Business_Description','Industry_Classifications','Security_Tickers','nan']"
   ]
  },
  {
   "cell_type": "code",
   "execution_count": 212,
   "metadata": {
    "scrolled": true
   },
   "outputs": [
    {
     "data": {
      "text/plain": [
       "Index(['Company_Name', 'Exchange_Ticker', 'Company_Type', 'Company_Status',\n",
       "       'Geographic_Locations', 'Business_Description',\n",
       "       'Industry_Classifications', 'Security_Tickers', 'nan'],\n",
       "      dtype='object')"
      ]
     },
     "execution_count": 212,
     "metadata": {},
     "output_type": "execute_result"
    }
   ],
   "source": [
    "US1.columns"
   ]
  },
  {
   "cell_type": "code",
   "execution_count": 213,
   "metadata": {},
   "outputs": [
    {
     "data": {
      "text/plain": [
       "(2002, 9)"
      ]
     },
     "execution_count": 213,
     "metadata": {},
     "output_type": "execute_result"
    }
   ],
   "source": [
    "US1.shape"
   ]
  },
  {
   "cell_type": "code",
   "execution_count": 214,
   "metadata": {},
   "outputs": [
    {
     "data": {
      "text/plain": [
       "Company_Name                object\n",
       "Exchange_Ticker             object\n",
       "Company_Type                object\n",
       "Company_Status              object\n",
       "Geographic_Locations        object\n",
       "Business_Description        object\n",
       "Industry_Classifications    object\n",
       "Security_Tickers            object\n",
       "nan                         object\n",
       "dtype: object"
      ]
     },
     "execution_count": 214,
     "metadata": {},
     "output_type": "execute_result"
    }
   ],
   "source": [
    "US1.dtypes"
   ]
  },
  {
   "cell_type": "code",
   "execution_count": 215,
   "metadata": {},
   "outputs": [],
   "source": [
    "US1 = US1.drop(columns=['nan'])"
   ]
  },
  {
   "cell_type": "code",
   "execution_count": 216,
   "metadata": {},
   "outputs": [
    {
     "data": {
      "text/plain": [
       "(2002, 8)"
      ]
     },
     "execution_count": 216,
     "metadata": {},
     "output_type": "execute_result"
    }
   ],
   "source": [
    "US1.shape"
   ]
  },
  {
   "cell_type": "code",
   "execution_count": 217,
   "metadata": {},
   "outputs": [],
   "source": [
    "new =US1[\"Industry_Classifications\"].str.split(\"(\",n=1 , expand = True)"
   ]
  },
  {
   "cell_type": "code",
   "execution_count": 222,
   "metadata": {},
   "outputs": [],
   "source": [
    "new[\"first_tag\"]= new[0]"
   ]
  },
  {
   "cell_type": "code",
   "execution_count": 223,
   "metadata": {},
   "outputs": [
    {
     "data": {
      "text/html": [
       "<div>\n",
       "<style scoped>\n",
       "    .dataframe tbody tr th:only-of-type {\n",
       "        vertical-align: middle;\n",
       "    }\n",
       "\n",
       "    .dataframe tbody tr th {\n",
       "        vertical-align: top;\n",
       "    }\n",
       "\n",
       "    .dataframe thead th {\n",
       "        text-align: right;\n",
       "    }\n",
       "</style>\n",
       "<table border=\"1\" class=\"dataframe\">\n",
       "  <thead>\n",
       "    <tr style=\"text-align: right;\">\n",
       "      <th></th>\n",
       "      <th>0</th>\n",
       "      <th>1</th>\n",
       "      <th>first_tag</th>\n",
       "    </tr>\n",
       "  </thead>\n",
       "  <tbody>\n",
       "    <tr>\n",
       "      <td>1</td>\n",
       "      <td>Beauty Care Products</td>\n",
       "      <td>Primary); Consumer Staples (Primary); Hair Car...</td>\n",
       "      <td>Beauty Care Products</td>\n",
       "    </tr>\n",
       "    <tr>\n",
       "      <td>2</td>\n",
       "      <td>Catalog Flowers, Gifts and Novelties</td>\n",
       "      <td>Primary); Catalog Hobbies, Games and Toy Retai...</td>\n",
       "      <td>Catalog Flowers, Gifts and Novelties</td>\n",
       "    </tr>\n",
       "    <tr>\n",
       "      <td>3</td>\n",
       "      <td>Information Technology</td>\n",
       "      <td>Primary); Internet Software and Services (Prim...</td>\n",
       "      <td>Information Technology</td>\n",
       "    </tr>\n",
       "    <tr>\n",
       "      <td>4</td>\n",
       "      <td>Casualty</td>\n",
       "      <td>Primary); Financials (Primary); Fire and Marin...</td>\n",
       "      <td>Casualty</td>\n",
       "    </tr>\n",
       "    <tr>\n",
       "      <td>5</td>\n",
       "      <td>Commercial and Professional Services</td>\n",
       "      <td>Primary); Commercial Services and Supplies (Pr...</td>\n",
       "      <td>Commercial and Professional Services</td>\n",
       "    </tr>\n",
       "    <tr>\n",
       "      <td>...</td>\n",
       "      <td>...</td>\n",
       "      <td>...</td>\n",
       "      <td>...</td>\n",
       "    </tr>\n",
       "    <tr>\n",
       "      <td>1998</td>\n",
       "      <td>Banks</td>\n",
       "      <td>Primary); Banks (Primary); Financials (Primary...</td>\n",
       "      <td>Banks</td>\n",
       "    </tr>\n",
       "    <tr>\n",
       "      <td>1999</td>\n",
       "      <td>Catalog Apparel and Accessory Retail</td>\n",
       "      <td>Primary); Catalog Specialty Retail (Primary); ...</td>\n",
       "      <td>Catalog Apparel and Accessory Retail</td>\n",
       "    </tr>\n",
       "    <tr>\n",
       "      <td>2000</td>\n",
       "      <td>Commercial and Professional Services</td>\n",
       "      <td>Primary); Commercial Services and Supplies (Pr...</td>\n",
       "      <td>Commercial and Professional Services</td>\n",
       "    </tr>\n",
       "    <tr>\n",
       "      <td>2001</td>\n",
       "      <td>Banks</td>\n",
       "      <td>Primary); Banks (Primary); Financials (Primary...</td>\n",
       "      <td>Banks</td>\n",
       "    </tr>\n",
       "    <tr>\n",
       "      <td>2002</td>\n",
       "      <td>Banks</td>\n",
       "      <td>Primary); Banks (Primary); Financials (Primary...</td>\n",
       "      <td>Banks</td>\n",
       "    </tr>\n",
       "  </tbody>\n",
       "</table>\n",
       "<p>2002 rows × 3 columns</p>\n",
       "</div>"
      ],
      "text/plain": [
       "                                          0  \\\n",
       "1                     Beauty Care Products    \n",
       "2     Catalog Flowers, Gifts and Novelties    \n",
       "3                   Information Technology    \n",
       "4                                 Casualty    \n",
       "5     Commercial and Professional Services    \n",
       "...                                     ...   \n",
       "1998                                 Banks    \n",
       "1999  Catalog Apparel and Accessory Retail    \n",
       "2000  Commercial and Professional Services    \n",
       "2001                                 Banks    \n",
       "2002                                 Banks    \n",
       "\n",
       "                                                      1  \\\n",
       "1     Primary); Consumer Staples (Primary); Hair Car...   \n",
       "2     Primary); Catalog Hobbies, Games and Toy Retai...   \n",
       "3     Primary); Internet Software and Services (Prim...   \n",
       "4     Primary); Financials (Primary); Fire and Marin...   \n",
       "5     Primary); Commercial Services and Supplies (Pr...   \n",
       "...                                                 ...   \n",
       "1998  Primary); Banks (Primary); Financials (Primary...   \n",
       "1999  Primary); Catalog Specialty Retail (Primary); ...   \n",
       "2000  Primary); Commercial Services and Supplies (Pr...   \n",
       "2001  Primary); Banks (Primary); Financials (Primary...   \n",
       "2002  Primary); Banks (Primary); Financials (Primary...   \n",
       "\n",
       "                                  first_tag  \n",
       "1                     Beauty Care Products   \n",
       "2     Catalog Flowers, Gifts and Novelties   \n",
       "3                   Information Technology   \n",
       "4                                 Casualty   \n",
       "5     Commercial and Professional Services   \n",
       "...                                     ...  \n",
       "1998                                 Banks   \n",
       "1999  Catalog Apparel and Accessory Retail   \n",
       "2000  Commercial and Professional Services   \n",
       "2001                                 Banks   \n",
       "2002                                 Banks   \n",
       "\n",
       "[2002 rows x 3 columns]"
      ]
     },
     "execution_count": 223,
     "metadata": {},
     "output_type": "execute_result"
    }
   ],
   "source": [
    "new"
   ]
  },
  {
   "cell_type": "code",
   "execution_count": 224,
   "metadata": {},
   "outputs": [
    {
     "data": {
      "text/plain": [
       "0            object\n",
       "1            object\n",
       "first_tag    object\n",
       "dtype: object"
      ]
     },
     "execution_count": 224,
     "metadata": {},
     "output_type": "execute_result"
    }
   ],
   "source": [
    "new.dtypes"
   ]
  },
  {
   "cell_type": "code",
   "execution_count": 225,
   "metadata": {},
   "outputs": [],
   "source": [
    "US1 = pd.concat((US1 ,new), axis=1)"
   ]
  },
  {
   "cell_type": "code",
   "execution_count": 226,
   "metadata": {},
   "outputs": [
    {
     "data": {
      "text/html": [
       "<div>\n",
       "<style scoped>\n",
       "    .dataframe tbody tr th:only-of-type {\n",
       "        vertical-align: middle;\n",
       "    }\n",
       "\n",
       "    .dataframe tbody tr th {\n",
       "        vertical-align: top;\n",
       "    }\n",
       "\n",
       "    .dataframe thead th {\n",
       "        text-align: right;\n",
       "    }\n",
       "</style>\n",
       "<table border=\"1\" class=\"dataframe\">\n",
       "  <thead>\n",
       "    <tr style=\"text-align: right;\">\n",
       "      <th></th>\n",
       "      <th>Company_Name</th>\n",
       "      <th>Exchange_Ticker</th>\n",
       "      <th>Company_Type</th>\n",
       "      <th>Company_Status</th>\n",
       "      <th>Geographic_Locations</th>\n",
       "      <th>Business_Description</th>\n",
       "      <th>Industry_Classifications</th>\n",
       "      <th>Security_Tickers</th>\n",
       "      <th>0</th>\n",
       "      <th>1</th>\n",
       "      <th>0</th>\n",
       "      <th>1</th>\n",
       "      <th>first_tag</th>\n",
       "    </tr>\n",
       "  </thead>\n",
       "  <tbody>\n",
       "    <tr>\n",
       "      <td>1</td>\n",
       "      <td>024 Pharma, Inc. (OTCPK:EEIG)</td>\n",
       "      <td>OTCPK:EEIG</td>\n",
       "      <td>Public Company</td>\n",
       "      <td>Operating</td>\n",
       "      <td>United States of America (Primary)</td>\n",
       "      <td>024 Pharma, Inc. provides healthcare products ...</td>\n",
       "      <td>Beauty Care Products (Primary); Consumer Stapl...</td>\n",
       "      <td>OTCPK:EEIG</td>\n",
       "      <td>Beauty Care Products</td>\n",
       "      <td>Primary); Consumer Staples (Primary); Hair Car...</td>\n",
       "      <td>Beauty Care Products</td>\n",
       "      <td>Primary); Consumer Staples (Primary); Hair Car...</td>\n",
       "      <td>Beauty Care Products</td>\n",
       "    </tr>\n",
       "    <tr>\n",
       "      <td>2</td>\n",
       "      <td>1-800-FLOWERS.COM, Inc. (NasdaqGS:FLWS)</td>\n",
       "      <td>NasdaqGS:FLWS</td>\n",
       "      <td>Public Company</td>\n",
       "      <td>Operating</td>\n",
       "      <td>United States of America (Primary)</td>\n",
       "      <td>1-800-Flowers.com, Inc., together with its sub...</td>\n",
       "      <td>Catalog Flowers, Gifts and Novelties (Primary)...</td>\n",
       "      <td>NasdaqGS:FLWS; DB:FWC</td>\n",
       "      <td>Catalog Flowers, Gifts and Novelties</td>\n",
       "      <td>Primary); Catalog Hobbies, Games and Toy Retai...</td>\n",
       "      <td>Catalog Flowers, Gifts and Novelties</td>\n",
       "      <td>Primary); Catalog Hobbies, Games and Toy Retai...</td>\n",
       "      <td>Catalog Flowers, Gifts and Novelties</td>\n",
       "    </tr>\n",
       "    <tr>\n",
       "      <td>3</td>\n",
       "      <td>12 Retech Corporation (OTCPK:RETC)</td>\n",
       "      <td>OTCPK:RETC</td>\n",
       "      <td>Public Company</td>\n",
       "      <td>Operating</td>\n",
       "      <td>United States of America (Primary)</td>\n",
       "      <td>12 Retech Corporation, through its subsidiarie...</td>\n",
       "      <td>Information Technology (Primary); Internet Sof...</td>\n",
       "      <td>OTCPK:RETC</td>\n",
       "      <td>Information Technology</td>\n",
       "      <td>Primary); Internet Software and Services (Prim...</td>\n",
       "      <td>Information Technology</td>\n",
       "      <td>Primary); Internet Software and Services (Prim...</td>\n",
       "      <td>Information Technology</td>\n",
       "    </tr>\n",
       "    <tr>\n",
       "      <td>4</td>\n",
       "      <td>1347 Property Insurance Holdings, Inc. (Nasdaq...</td>\n",
       "      <td>NasdaqGM:PIH</td>\n",
       "      <td>Public Company</td>\n",
       "      <td>Operating</td>\n",
       "      <td>United States of America (Primary)</td>\n",
       "      <td>1347 Property Insurance Holdings, Inc., throug...</td>\n",
       "      <td>Casualty (Primary); Financials (Primary); Fire...</td>\n",
       "      <td>NasdaqGM:PIH</td>\n",
       "      <td>Casualty</td>\n",
       "      <td>Primary); Financials (Primary); Fire and Marin...</td>\n",
       "      <td>Casualty</td>\n",
       "      <td>Primary); Financials (Primary); Fire and Marin...</td>\n",
       "      <td>Casualty</td>\n",
       "    </tr>\n",
       "    <tr>\n",
       "      <td>5</td>\n",
       "      <td>1847 Holdings LLC (OTCPK:EFSH)</td>\n",
       "      <td>OTCPK:EFSH</td>\n",
       "      <td>Public Company</td>\n",
       "      <td>Operating</td>\n",
       "      <td>United States of America (Primary)</td>\n",
       "      <td>1847 Holdings LLC, through its subsidiaries, p...</td>\n",
       "      <td>Commercial and Professional Services (Primary)...</td>\n",
       "      <td>OTCPK:EFSH</td>\n",
       "      <td>Commercial and Professional Services</td>\n",
       "      <td>Primary); Commercial Services and Supplies (Pr...</td>\n",
       "      <td>Commercial and Professional Services</td>\n",
       "      <td>Primary); Commercial Services and Supplies (Pr...</td>\n",
       "      <td>Commercial and Professional Services</td>\n",
       "    </tr>\n",
       "  </tbody>\n",
       "</table>\n",
       "</div>"
      ],
      "text/plain": [
       "                                        Company_Name Exchange_Ticker  \\\n",
       "1                      024 Pharma, Inc. (OTCPK:EEIG)      OTCPK:EEIG   \n",
       "2            1-800-FLOWERS.COM, Inc. (NasdaqGS:FLWS)   NasdaqGS:FLWS   \n",
       "3                 12 Retech Corporation (OTCPK:RETC)      OTCPK:RETC   \n",
       "4  1347 Property Insurance Holdings, Inc. (Nasdaq...    NasdaqGM:PIH   \n",
       "5                     1847 Holdings LLC (OTCPK:EFSH)      OTCPK:EFSH   \n",
       "\n",
       "     Company_Type Company_Status                Geographic_Locations  \\\n",
       "1  Public Company      Operating  United States of America (Primary)   \n",
       "2  Public Company      Operating  United States of America (Primary)   \n",
       "3  Public Company      Operating  United States of America (Primary)   \n",
       "4  Public Company      Operating  United States of America (Primary)   \n",
       "5  Public Company      Operating  United States of America (Primary)   \n",
       "\n",
       "                                Business_Description  \\\n",
       "1  024 Pharma, Inc. provides healthcare products ...   \n",
       "2  1-800-Flowers.com, Inc., together with its sub...   \n",
       "3  12 Retech Corporation, through its subsidiarie...   \n",
       "4  1347 Property Insurance Holdings, Inc., throug...   \n",
       "5  1847 Holdings LLC, through its subsidiaries, p...   \n",
       "\n",
       "                            Industry_Classifications       Security_Tickers  \\\n",
       "1  Beauty Care Products (Primary); Consumer Stapl...             OTCPK:EEIG   \n",
       "2  Catalog Flowers, Gifts and Novelties (Primary)...  NasdaqGS:FLWS; DB:FWC   \n",
       "3  Information Technology (Primary); Internet Sof...             OTCPK:RETC   \n",
       "4  Casualty (Primary); Financials (Primary); Fire...           NasdaqGM:PIH   \n",
       "5  Commercial and Professional Services (Primary)...             OTCPK:EFSH   \n",
       "\n",
       "                                       0  \\\n",
       "1                  Beauty Care Products    \n",
       "2  Catalog Flowers, Gifts and Novelties    \n",
       "3                Information Technology    \n",
       "4                              Casualty    \n",
       "5  Commercial and Professional Services    \n",
       "\n",
       "                                                   1  \\\n",
       "1  Primary); Consumer Staples (Primary); Hair Car...   \n",
       "2  Primary); Catalog Hobbies, Games and Toy Retai...   \n",
       "3  Primary); Internet Software and Services (Prim...   \n",
       "4  Primary); Financials (Primary); Fire and Marin...   \n",
       "5  Primary); Commercial Services and Supplies (Pr...   \n",
       "\n",
       "                                       0  \\\n",
       "1                  Beauty Care Products    \n",
       "2  Catalog Flowers, Gifts and Novelties    \n",
       "3                Information Technology    \n",
       "4                              Casualty    \n",
       "5  Commercial and Professional Services    \n",
       "\n",
       "                                                   1  \\\n",
       "1  Primary); Consumer Staples (Primary); Hair Car...   \n",
       "2  Primary); Catalog Hobbies, Games and Toy Retai...   \n",
       "3  Primary); Internet Software and Services (Prim...   \n",
       "4  Primary); Financials (Primary); Fire and Marin...   \n",
       "5  Primary); Commercial Services and Supplies (Pr...   \n",
       "\n",
       "                               first_tag  \n",
       "1                  Beauty Care Products   \n",
       "2  Catalog Flowers, Gifts and Novelties   \n",
       "3                Information Technology   \n",
       "4                              Casualty   \n",
       "5  Commercial and Professional Services   "
      ]
     },
     "execution_count": 226,
     "metadata": {},
     "output_type": "execute_result"
    }
   ],
   "source": [
    "US1.head()"
   ]
  },
  {
   "cell_type": "code",
   "execution_count": 230,
   "metadata": {},
   "outputs": [
    {
     "data": {
      "text/plain": [
       "False    2002\n",
       "dtype: int64"
      ]
     },
     "execution_count": 230,
     "metadata": {},
     "output_type": "execute_result"
    }
   ],
   "source": [
    "#checking duplicate values \n",
    "US1.duplicated().value_counts()# no duplicateds"
   ]
  },
  {
   "cell_type": "code",
   "execution_count": 231,
   "metadata": {},
   "outputs": [
    {
     "data": {
      "text/plain": [
       "False    11\n",
       "True      2\n",
       "dtype: int64"
      ]
     },
     "execution_count": 231,
     "metadata": {},
     "output_type": "execute_result"
    }
   ],
   "source": [
    "#Checking for missing values\n",
    "US1.isnull().any().value_counts()"
   ]
  },
  {
   "cell_type": "code",
   "execution_count": 232,
   "metadata": {},
   "outputs": [
    {
     "data": {
      "text/plain": [
       "False    2002\n",
       "Name: Business_Description, dtype: int64"
      ]
     },
     "execution_count": 232,
     "metadata": {},
     "output_type": "execute_result"
    }
   ],
   "source": [
    "US1.Business_Description.isnull().value_counts()"
   ]
  },
  {
   "cell_type": "code",
   "execution_count": 233,
   "metadata": {},
   "outputs": [
    {
     "data": {
      "text/plain": [
       "False    2002\n",
       "Name: first_tag, dtype: int64"
      ]
     },
     "execution_count": 233,
     "metadata": {},
     "output_type": "execute_result"
    }
   ],
   "source": [
    "US1.first_tag.isnull().value_counts()"
   ]
  },
  {
   "cell_type": "markdown",
   "metadata": {},
   "source": [
    "### Splitting the data into existing and New"
   ]
  },
  {
   "cell_type": "code",
   "execution_count": 234,
   "metadata": {},
   "outputs": [],
   "source": [
    "US1_existing = US1[US1.first_tag.isnull()==0]"
   ]
  },
  {
   "cell_type": "code",
   "execution_count": 235,
   "metadata": {},
   "outputs": [],
   "source": [
    "US1_New = US1[US1.first_tag.isnull()==1]"
   ]
  },
  {
   "cell_type": "code",
   "execution_count": 236,
   "metadata": {},
   "outputs": [
    {
     "data": {
      "text/html": [
       "<div>\n",
       "<style scoped>\n",
       "    .dataframe tbody tr th:only-of-type {\n",
       "        vertical-align: middle;\n",
       "    }\n",
       "\n",
       "    .dataframe tbody tr th {\n",
       "        vertical-align: top;\n",
       "    }\n",
       "\n",
       "    .dataframe thead th {\n",
       "        text-align: right;\n",
       "    }\n",
       "</style>\n",
       "<table border=\"1\" class=\"dataframe\">\n",
       "  <thead>\n",
       "    <tr style=\"text-align: right;\">\n",
       "      <th></th>\n",
       "      <th>Company_Name</th>\n",
       "      <th>Exchange_Ticker</th>\n",
       "      <th>Company_Type</th>\n",
       "      <th>Company_Status</th>\n",
       "      <th>Geographic_Locations</th>\n",
       "      <th>Business_Description</th>\n",
       "      <th>Industry_Classifications</th>\n",
       "      <th>Security_Tickers</th>\n",
       "      <th>0</th>\n",
       "      <th>1</th>\n",
       "      <th>0</th>\n",
       "      <th>1</th>\n",
       "      <th>first_tag</th>\n",
       "    </tr>\n",
       "  </thead>\n",
       "  <tbody>\n",
       "    <tr>\n",
       "      <td>1</td>\n",
       "      <td>024 Pharma, Inc. (OTCPK:EEIG)</td>\n",
       "      <td>OTCPK:EEIG</td>\n",
       "      <td>Public Company</td>\n",
       "      <td>Operating</td>\n",
       "      <td>United States of America (Primary)</td>\n",
       "      <td>024 Pharma, Inc. provides healthcare products ...</td>\n",
       "      <td>Beauty Care Products (Primary); Consumer Stapl...</td>\n",
       "      <td>OTCPK:EEIG</td>\n",
       "      <td>Beauty Care Products</td>\n",
       "      <td>Primary); Consumer Staples (Primary); Hair Car...</td>\n",
       "      <td>Beauty Care Products</td>\n",
       "      <td>Primary); Consumer Staples (Primary); Hair Car...</td>\n",
       "      <td>Beauty Care Products</td>\n",
       "    </tr>\n",
       "    <tr>\n",
       "      <td>2</td>\n",
       "      <td>1-800-FLOWERS.COM, Inc. (NasdaqGS:FLWS)</td>\n",
       "      <td>NasdaqGS:FLWS</td>\n",
       "      <td>Public Company</td>\n",
       "      <td>Operating</td>\n",
       "      <td>United States of America (Primary)</td>\n",
       "      <td>1-800-Flowers.com, Inc., together with its sub...</td>\n",
       "      <td>Catalog Flowers, Gifts and Novelties (Primary)...</td>\n",
       "      <td>NasdaqGS:FLWS; DB:FWC</td>\n",
       "      <td>Catalog Flowers, Gifts and Novelties</td>\n",
       "      <td>Primary); Catalog Hobbies, Games and Toy Retai...</td>\n",
       "      <td>Catalog Flowers, Gifts and Novelties</td>\n",
       "      <td>Primary); Catalog Hobbies, Games and Toy Retai...</td>\n",
       "      <td>Catalog Flowers, Gifts and Novelties</td>\n",
       "    </tr>\n",
       "    <tr>\n",
       "      <td>3</td>\n",
       "      <td>12 Retech Corporation (OTCPK:RETC)</td>\n",
       "      <td>OTCPK:RETC</td>\n",
       "      <td>Public Company</td>\n",
       "      <td>Operating</td>\n",
       "      <td>United States of America (Primary)</td>\n",
       "      <td>12 Retech Corporation, through its subsidiarie...</td>\n",
       "      <td>Information Technology (Primary); Internet Sof...</td>\n",
       "      <td>OTCPK:RETC</td>\n",
       "      <td>Information Technology</td>\n",
       "      <td>Primary); Internet Software and Services (Prim...</td>\n",
       "      <td>Information Technology</td>\n",
       "      <td>Primary); Internet Software and Services (Prim...</td>\n",
       "      <td>Information Technology</td>\n",
       "    </tr>\n",
       "    <tr>\n",
       "      <td>4</td>\n",
       "      <td>1347 Property Insurance Holdings, Inc. (Nasdaq...</td>\n",
       "      <td>NasdaqGM:PIH</td>\n",
       "      <td>Public Company</td>\n",
       "      <td>Operating</td>\n",
       "      <td>United States of America (Primary)</td>\n",
       "      <td>1347 Property Insurance Holdings, Inc., throug...</td>\n",
       "      <td>Casualty (Primary); Financials (Primary); Fire...</td>\n",
       "      <td>NasdaqGM:PIH</td>\n",
       "      <td>Casualty</td>\n",
       "      <td>Primary); Financials (Primary); Fire and Marin...</td>\n",
       "      <td>Casualty</td>\n",
       "      <td>Primary); Financials (Primary); Fire and Marin...</td>\n",
       "      <td>Casualty</td>\n",
       "    </tr>\n",
       "    <tr>\n",
       "      <td>5</td>\n",
       "      <td>1847 Holdings LLC (OTCPK:EFSH)</td>\n",
       "      <td>OTCPK:EFSH</td>\n",
       "      <td>Public Company</td>\n",
       "      <td>Operating</td>\n",
       "      <td>United States of America (Primary)</td>\n",
       "      <td>1847 Holdings LLC, through its subsidiaries, p...</td>\n",
       "      <td>Commercial and Professional Services (Primary)...</td>\n",
       "      <td>OTCPK:EFSH</td>\n",
       "      <td>Commercial and Professional Services</td>\n",
       "      <td>Primary); Commercial Services and Supplies (Pr...</td>\n",
       "      <td>Commercial and Professional Services</td>\n",
       "      <td>Primary); Commercial Services and Supplies (Pr...</td>\n",
       "      <td>Commercial and Professional Services</td>\n",
       "    </tr>\n",
       "  </tbody>\n",
       "</table>\n",
       "</div>"
      ],
      "text/plain": [
       "                                        Company_Name Exchange_Ticker  \\\n",
       "1                      024 Pharma, Inc. (OTCPK:EEIG)      OTCPK:EEIG   \n",
       "2            1-800-FLOWERS.COM, Inc. (NasdaqGS:FLWS)   NasdaqGS:FLWS   \n",
       "3                 12 Retech Corporation (OTCPK:RETC)      OTCPK:RETC   \n",
       "4  1347 Property Insurance Holdings, Inc. (Nasdaq...    NasdaqGM:PIH   \n",
       "5                     1847 Holdings LLC (OTCPK:EFSH)      OTCPK:EFSH   \n",
       "\n",
       "     Company_Type Company_Status                Geographic_Locations  \\\n",
       "1  Public Company      Operating  United States of America (Primary)   \n",
       "2  Public Company      Operating  United States of America (Primary)   \n",
       "3  Public Company      Operating  United States of America (Primary)   \n",
       "4  Public Company      Operating  United States of America (Primary)   \n",
       "5  Public Company      Operating  United States of America (Primary)   \n",
       "\n",
       "                                Business_Description  \\\n",
       "1  024 Pharma, Inc. provides healthcare products ...   \n",
       "2  1-800-Flowers.com, Inc., together with its sub...   \n",
       "3  12 Retech Corporation, through its subsidiarie...   \n",
       "4  1347 Property Insurance Holdings, Inc., throug...   \n",
       "5  1847 Holdings LLC, through its subsidiaries, p...   \n",
       "\n",
       "                            Industry_Classifications       Security_Tickers  \\\n",
       "1  Beauty Care Products (Primary); Consumer Stapl...             OTCPK:EEIG   \n",
       "2  Catalog Flowers, Gifts and Novelties (Primary)...  NasdaqGS:FLWS; DB:FWC   \n",
       "3  Information Technology (Primary); Internet Sof...             OTCPK:RETC   \n",
       "4  Casualty (Primary); Financials (Primary); Fire...           NasdaqGM:PIH   \n",
       "5  Commercial and Professional Services (Primary)...             OTCPK:EFSH   \n",
       "\n",
       "                                       0  \\\n",
       "1                  Beauty Care Products    \n",
       "2  Catalog Flowers, Gifts and Novelties    \n",
       "3                Information Technology    \n",
       "4                              Casualty    \n",
       "5  Commercial and Professional Services    \n",
       "\n",
       "                                                   1  \\\n",
       "1  Primary); Consumer Staples (Primary); Hair Car...   \n",
       "2  Primary); Catalog Hobbies, Games and Toy Retai...   \n",
       "3  Primary); Internet Software and Services (Prim...   \n",
       "4  Primary); Financials (Primary); Fire and Marin...   \n",
       "5  Primary); Commercial Services and Supplies (Pr...   \n",
       "\n",
       "                                       0  \\\n",
       "1                  Beauty Care Products    \n",
       "2  Catalog Flowers, Gifts and Novelties    \n",
       "3                Information Technology    \n",
       "4                              Casualty    \n",
       "5  Commercial and Professional Services    \n",
       "\n",
       "                                                   1  \\\n",
       "1  Primary); Consumer Staples (Primary); Hair Car...   \n",
       "2  Primary); Catalog Hobbies, Games and Toy Retai...   \n",
       "3  Primary); Internet Software and Services (Prim...   \n",
       "4  Primary); Financials (Primary); Fire and Marin...   \n",
       "5  Primary); Commercial Services and Supplies (Pr...   \n",
       "\n",
       "                               first_tag  \n",
       "1                  Beauty Care Products   \n",
       "2  Catalog Flowers, Gifts and Novelties   \n",
       "3                Information Technology   \n",
       "4                              Casualty   \n",
       "5  Commercial and Professional Services   "
      ]
     },
     "execution_count": 236,
     "metadata": {},
     "output_type": "execute_result"
    }
   ],
   "source": [
    "US1_existing.head()"
   ]
  },
  {
   "cell_type": "code",
   "execution_count": 253,
   "metadata": {},
   "outputs": [
    {
     "data": {
      "text/plain": [
       "Index([            'Company_Name',          'Exchange_Ticker',\n",
       "                   'Company_Type',           'Company_Status',\n",
       "           'Geographic_Locations',     'Business_Description',\n",
       "       'Industry_Classifications',         'Security_Tickers',\n",
       "                                0,                          1,\n",
       "                                0,                          1,\n",
       "                      'first_tag',                   'Target'],\n",
       "      dtype='object')"
      ]
     },
     "execution_count": 253,
     "metadata": {},
     "output_type": "execute_result"
    }
   ],
   "source": [
    "US1_existing.columns"
   ]
  },
  {
   "cell_type": "code",
   "execution_count": 254,
   "metadata": {
    "scrolled": false
   },
   "outputs": [
    {
     "data": {
      "text/plain": [
       "False    2002\n",
       "Name: Business_Description, dtype: int64"
      ]
     },
     "execution_count": 254,
     "metadata": {},
     "output_type": "execute_result"
    }
   ],
   "source": [
    "US1_existing.Business_Description.isnull().value_counts()"
   ]
  },
  {
   "cell_type": "code",
   "execution_count": 255,
   "metadata": {},
   "outputs": [
    {
     "data": {
      "text/plain": [
       "False    2002\n",
       "Name: first_tag, dtype: int64"
      ]
     },
     "execution_count": 255,
     "metadata": {},
     "output_type": "execute_result"
    }
   ],
   "source": [
    "US1_existing.first_tag.isnull().value_counts()"
   ]
  },
  {
   "cell_type": "code",
   "execution_count": 256,
   "metadata": {},
   "outputs": [
    {
     "data": {
      "text/plain": [
       "Banks                                    241\n",
       "Healthcare                               153\n",
       "Biotechnology                            145\n",
       "Energy                                   133\n",
       "Consumer Discretionary                   117\n",
       "Information Technology                   106\n",
       "Capital Goods                             88\n",
       "Commercial and Professional Services      85\n",
       "Application Software                      50\n",
       "Communications Equipment                  37\n",
       "Asset Management and Custody Banks        32\n",
       "Consumer Staples                          31\n",
       "Chemicals                                 28\n",
       "Application Hosting Services              27\n",
       "Aerospace and Defense                     23\n",
       "Name: first_tag, dtype: int64"
      ]
     },
     "execution_count": 256,
     "metadata": {},
     "output_type": "execute_result"
    }
   ],
   "source": [
    "US1_existing.first_tag.value_counts().head(15)"
   ]
  },
  {
   "cell_type": "code",
   "execution_count": 257,
   "metadata": {},
   "outputs": [],
   "source": [
    "from numpy import where as IF"
   ]
  },
  {
   "cell_type": "code",
   "execution_count": 264,
   "metadata": {},
   "outputs": [],
   "source": [
    "US1_existing['Target'] =IF(US1_existing.first_tag=='Banks ','Banks',\n",
    "                           IF(US1_existing.first_tag=='Healthcare ','Healthcare',\n",
    "                              IF(US1_existing.first_tag=='Biotechnology ','Biotechnology',\n",
    "                                 IF(US1_existing.first_tag=='Energy ','Energy',\n",
    "                                    IF(US1_existing.first_tag=='Consumer Discretionary ','Consumer_Discretionary',\n",
    "                                       IF(US1_existing.first_tag=='Information Technology ','Information_Technology',\n",
    "                                          IF(US1_existing.first_tag=='Capital Goods ','Capital Goods',\n",
    "                                             IF(US1_existing.first_tag=='Commercial and Professional Services ','Commercial_and_Professional _ervices',\n",
    "                                                IF(US1_existing.first_tag=='Application Software ','Application_Software',\n",
    "                                                   IF(US1_existing.first_tag=='Communications Equipment ','Communications_Equipment',\n",
    "                                                      IF(US1_existing.first_tag=='Asset Management and Custody Banks ','Asset_Management_and_Custody_Banks',\n",
    "                                                         IF(US1_existing.first_tag=='Consumer Staples','Consumer_Staples ','others'))))))))))))\n"
   ]
  },
  {
   "cell_type": "code",
   "execution_count": 265,
   "metadata": {},
   "outputs": [
    {
     "data": {
      "text/plain": [
       "Index([            'Company_Name',          'Exchange_Ticker',\n",
       "                   'Company_Type',           'Company_Status',\n",
       "           'Geographic_Locations',     'Business_Description',\n",
       "       'Industry_Classifications',         'Security_Tickers',\n",
       "                                0,                          1,\n",
       "                                0,                          1,\n",
       "                      'first_tag',                   'Target'],\n",
       "      dtype='object')"
      ]
     },
     "execution_count": 265,
     "metadata": {},
     "output_type": "execute_result"
    }
   ],
   "source": [
    "US1_existing.columns"
   ]
  },
  {
   "cell_type": "code",
   "execution_count": 266,
   "metadata": {
    "scrolled": true
   },
   "outputs": [
    {
     "data": {
      "text/plain": [
       "others                                  815\n",
       "Banks                                   241\n",
       "Healthcare                              153\n",
       "Biotechnology                           145\n",
       "Energy                                  133\n",
       "Consumer_Discretionary                  117\n",
       "Information_Technology                  106\n",
       "Capital Goods                            88\n",
       "Commercial_and_Professional _ervices     85\n",
       "Application_Software                     50\n",
       "Communications_Equipment                 37\n",
       "Asset_Management_and_Custody_Banks       32\n",
       "Name: Target, dtype: int64"
      ]
     },
     "execution_count": 266,
     "metadata": {},
     "output_type": "execute_result"
    }
   ],
   "source": [
    "US1_existing.Target.value_counts()"
   ]
  },
  {
   "cell_type": "code",
   "execution_count": 267,
   "metadata": {},
   "outputs": [
    {
     "data": {
      "image/png": "[encoded data removed]",
      "text/plain": [
       "<Figure size 576x432 with 1 Axes>"
      ]
     },
     "metadata": {
      "needs_background": "light"
     },
     "output_type": "display_data"
    }
   ],
   "source": [
    "import matplotlib.pyplot as plt\n",
    "fig = plt.figure(figsize=(8,6))\n",
    "US1_existing.groupby('Target').Business_Description.count().plot.bar(ylim=0)\n",
    "plt.show()"
   ]
  },
  {
   "cell_type": "code",
   "execution_count": 268,
   "metadata": {},
   "outputs": [],
   "source": [
    "final_data = US1_existing[['Business_Description','Target']]"
   ]
  },
  {
   "cell_type": "code",
   "execution_count": 269,
   "metadata": {},
   "outputs": [
    {
     "data": {
      "text/html": [
       "<div>\n",
       "<style scoped>\n",
       "    .dataframe tbody tr th:only-of-type {\n",
       "        vertical-align: middle;\n",
       "    }\n",
       "\n",
       "    .dataframe tbody tr th {\n",
       "        vertical-align: top;\n",
       "    }\n",
       "\n",
       "    .dataframe thead th {\n",
       "        text-align: right;\n",
       "    }\n",
       "</style>\n",
       "<table border=\"1\" class=\"dataframe\">\n",
       "  <thead>\n",
       "    <tr style=\"text-align: right;\">\n",
       "      <th></th>\n",
       "      <th>Business_Description</th>\n",
       "      <th>Target</th>\n",
       "    </tr>\n",
       "  </thead>\n",
       "  <tbody>\n",
       "    <tr>\n",
       "      <td>1</td>\n",
       "      <td>024 Pharma, Inc. provides healthcare products ...</td>\n",
       "      <td>others</td>\n",
       "    </tr>\n",
       "    <tr>\n",
       "      <td>2</td>\n",
       "      <td>1-800-Flowers.com, Inc., together with its sub...</td>\n",
       "      <td>others</td>\n",
       "    </tr>\n",
       "    <tr>\n",
       "      <td>3</td>\n",
       "      <td>12 Retech Corporation, through its subsidiarie...</td>\n",
       "      <td>Information_Technology</td>\n",
       "    </tr>\n",
       "    <tr>\n",
       "      <td>4</td>\n",
       "      <td>1347 Property Insurance Holdings, Inc., throug...</td>\n",
       "      <td>others</td>\n",
       "    </tr>\n",
       "    <tr>\n",
       "      <td>5</td>\n",
       "      <td>1847 Holdings LLC, through its subsidiaries, p...</td>\n",
       "      <td>Commercial_and_Professional _ervices</td>\n",
       "    </tr>\n",
       "    <tr>\n",
       "      <td>...</td>\n",
       "      <td>...</td>\n",
       "      <td>...</td>\n",
       "    </tr>\n",
       "    <tr>\n",
       "      <td>1998</td>\n",
       "      <td>Delhi Bank Corp. operates as a bank holding co...</td>\n",
       "      <td>Banks</td>\n",
       "    </tr>\n",
       "    <tr>\n",
       "      <td>1999</td>\n",
       "      <td>dELiA*s, Inc. operates as a multi-channel reta...</td>\n",
       "      <td>others</td>\n",
       "    </tr>\n",
       "    <tr>\n",
       "      <td>2000</td>\n",
       "      <td>Delivery Technology Solutions, Inc. offers res...</td>\n",
       "      <td>Commercial_and_Professional _ervices</td>\n",
       "    </tr>\n",
       "    <tr>\n",
       "      <td>2001</td>\n",
       "      <td>Delmar Bancorp operates as the bank holding co...</td>\n",
       "      <td>Banks</td>\n",
       "    </tr>\n",
       "    <tr>\n",
       "      <td>2002</td>\n",
       "      <td>Delmarva Bancshares, Inc. operates as the bank...</td>\n",
       "      <td>Banks</td>\n",
       "    </tr>\n",
       "  </tbody>\n",
       "</table>\n",
       "<p>2002 rows × 2 columns</p>\n",
       "</div>"
      ],
      "text/plain": [
       "                                   Business_Description  \\\n",
       "1     024 Pharma, Inc. provides healthcare products ...   \n",
       "2     1-800-Flowers.com, Inc., together with its sub...   \n",
       "3     12 Retech Corporation, through its subsidiarie...   \n",
       "4     1347 Property Insurance Holdings, Inc., throug...   \n",
       "5     1847 Holdings LLC, through its subsidiaries, p...   \n",
       "...                                                 ...   \n",
       "1998  Delhi Bank Corp. operates as a bank holding co...   \n",
       "1999  dELiA*s, Inc. operates as a multi-channel reta...   \n",
       "2000  Delivery Technology Solutions, Inc. offers res...   \n",
       "2001  Delmar Bancorp operates as the bank holding co...   \n",
       "2002  Delmarva Bancshares, Inc. operates as the bank...   \n",
       "\n",
       "                                    Target  \n",
       "1                                   others  \n",
       "2                                   others  \n",
       "3                   Information_Technology  \n",
       "4                                   others  \n",
       "5     Commercial_and_Professional _ervices  \n",
       "...                                    ...  \n",
       "1998                                 Banks  \n",
       "1999                                others  \n",
       "2000  Commercial_and_Professional _ervices  \n",
       "2001                                 Banks  \n",
       "2002                                 Banks  \n",
       "\n",
       "[2002 rows x 2 columns]"
      ]
     },
     "execution_count": 269,
     "metadata": {},
     "output_type": "execute_result"
    }
   ],
   "source": [
    "final_data"
   ]
  },
  {
   "cell_type": "code",
   "execution_count": 270,
   "metadata": {},
   "outputs": [],
   "source": [
    "final_data.to_excel('final_data.xlsx')"
   ]
  },
  {
   "cell_type": "code",
   "execution_count": 271,
   "metadata": {},
   "outputs": [],
   "source": [
    "# making data frame from csv file \n",
    "df = pd.read_excel(\"final_data.xlsx\") \n",
    "  "
   ]
  },
  {
   "cell_type": "code",
   "execution_count": 272,
   "metadata": {},
   "outputs": [
    {
     "data": {
      "text/plain": [
       "Index(['Unnamed: 0', 'Business_Description', 'Target'], dtype='object')"
      ]
     },
     "execution_count": 272,
     "metadata": {},
     "output_type": "execute_result"
    }
   ],
   "source": [
    "df.columns"
   ]
  },
  {
   "cell_type": "code",
   "execution_count": 273,
   "metadata": {},
   "outputs": [],
   "source": [
    "# Filter all rows for which the player's \n",
    "# age is greater than or equal to 25 \n",
    "df_filtered = df[df['Target'] != 'others']"
   ]
  },
  {
   "cell_type": "code",
   "execution_count": 274,
   "metadata": {},
   "outputs": [
    {
     "data": {
      "text/html": [
       "<div>\n",
       "<style scoped>\n",
       "    .dataframe tbody tr th:only-of-type {\n",
       "        vertical-align: middle;\n",
       "    }\n",
       "\n",
       "    .dataframe tbody tr th {\n",
       "        vertical-align: top;\n",
       "    }\n",
       "\n",
       "    .dataframe thead th {\n",
       "        text-align: right;\n",
       "    }\n",
       "</style>\n",
       "<table border=\"1\" class=\"dataframe\">\n",
       "  <thead>\n",
       "    <tr style=\"text-align: right;\">\n",
       "      <th></th>\n",
       "      <th>Unnamed: 0</th>\n",
       "      <th>Business_Description</th>\n",
       "      <th>Target</th>\n",
       "    </tr>\n",
       "  </thead>\n",
       "  <tbody>\n",
       "    <tr>\n",
       "      <td>2</td>\n",
       "      <td>3</td>\n",
       "      <td>12 Retech Corporation, through its subsidiarie...</td>\n",
       "      <td>Information_Technology</td>\n",
       "    </tr>\n",
       "    <tr>\n",
       "      <td>4</td>\n",
       "      <td>5</td>\n",
       "      <td>1847 Holdings LLC, through its subsidiaries, p...</td>\n",
       "      <td>Commercial_and_Professional _ervices</td>\n",
       "    </tr>\n",
       "    <tr>\n",
       "      <td>5</td>\n",
       "      <td>6</td>\n",
       "      <td>1867 Western Financial Corporation, through it...</td>\n",
       "      <td>Banks</td>\n",
       "    </tr>\n",
       "    <tr>\n",
       "      <td>6</td>\n",
       "      <td>7</td>\n",
       "      <td>1mage Software Inc operates in the technology ...</td>\n",
       "      <td>Application_Software</td>\n",
       "    </tr>\n",
       "    <tr>\n",
       "      <td>7</td>\n",
       "      <td>8</td>\n",
       "      <td>1PM Industries, Inc. provides consulting servi...</td>\n",
       "      <td>Commercial_and_Professional _ervices</td>\n",
       "    </tr>\n",
       "    <tr>\n",
       "      <td>...</td>\n",
       "      <td>...</td>\n",
       "      <td>...</td>\n",
       "      <td>...</td>\n",
       "    </tr>\n",
       "    <tr>\n",
       "      <td>1996</td>\n",
       "      <td>1997</td>\n",
       "      <td>Delek US Holdings, Inc. engages in the integra...</td>\n",
       "      <td>Energy</td>\n",
       "    </tr>\n",
       "    <tr>\n",
       "      <td>1997</td>\n",
       "      <td>1998</td>\n",
       "      <td>Delhi Bank Corp. operates as a bank holding co...</td>\n",
       "      <td>Banks</td>\n",
       "    </tr>\n",
       "    <tr>\n",
       "      <td>1999</td>\n",
       "      <td>2000</td>\n",
       "      <td>Delivery Technology Solutions, Inc. offers res...</td>\n",
       "      <td>Commercial_and_Professional _ervices</td>\n",
       "    </tr>\n",
       "    <tr>\n",
       "      <td>2000</td>\n",
       "      <td>2001</td>\n",
       "      <td>Delmar Bancorp operates as the bank holding co...</td>\n",
       "      <td>Banks</td>\n",
       "    </tr>\n",
       "    <tr>\n",
       "      <td>2001</td>\n",
       "      <td>2002</td>\n",
       "      <td>Delmarva Bancshares, Inc. operates as the bank...</td>\n",
       "      <td>Banks</td>\n",
       "    </tr>\n",
       "  </tbody>\n",
       "</table>\n",
       "<p>1187 rows × 3 columns</p>\n",
       "</div>"
      ],
      "text/plain": [
       "      Unnamed: 0                               Business_Description  \\\n",
       "2              3  12 Retech Corporation, through its subsidiarie...   \n",
       "4              5  1847 Holdings LLC, through its subsidiaries, p...   \n",
       "5              6  1867 Western Financial Corporation, through it...   \n",
       "6              7  1mage Software Inc operates in the technology ...   \n",
       "7              8  1PM Industries, Inc. provides consulting servi...   \n",
       "...          ...                                                ...   \n",
       "1996        1997  Delek US Holdings, Inc. engages in the integra...   \n",
       "1997        1998  Delhi Bank Corp. operates as a bank holding co...   \n",
       "1999        2000  Delivery Technology Solutions, Inc. offers res...   \n",
       "2000        2001  Delmar Bancorp operates as the bank holding co...   \n",
       "2001        2002  Delmarva Bancshares, Inc. operates as the bank...   \n",
       "\n",
       "                                    Target  \n",
       "2                   Information_Technology  \n",
       "4     Commercial_and_Professional _ervices  \n",
       "5                                    Banks  \n",
       "6                     Application_Software  \n",
       "7     Commercial_and_Professional _ervices  \n",
       "...                                    ...  \n",
       "1996                                Energy  \n",
       "1997                                 Banks  \n",
       "1999  Commercial_and_Professional _ervices  \n",
       "2000                                 Banks  \n",
       "2001                                 Banks  \n",
       "\n",
       "[1187 rows x 3 columns]"
      ]
     },
     "execution_count": 274,
     "metadata": {},
     "output_type": "execute_result"
    }
   ],
   "source": [
    "df_filtered"
   ]
  },
  {
   "cell_type": "code",
   "execution_count": 275,
   "metadata": {},
   "outputs": [],
   "source": [
    "df_filtered= df_filtered.drop(columns =[\"Unnamed: 0\"])"
   ]
  },
  {
   "cell_type": "code",
   "execution_count": 276,
   "metadata": {},
   "outputs": [
    {
     "data": {
      "text/html": [
       "<div>\n",
       "<style scoped>\n",
       "    .dataframe tbody tr th:only-of-type {\n",
       "        vertical-align: middle;\n",
       "    }\n",
       "\n",
       "    .dataframe tbody tr th {\n",
       "        vertical-align: top;\n",
       "    }\n",
       "\n",
       "    .dataframe thead th {\n",
       "        text-align: right;\n",
       "    }\n",
       "</style>\n",
       "<table border=\"1\" class=\"dataframe\">\n",
       "  <thead>\n",
       "    <tr style=\"text-align: right;\">\n",
       "      <th></th>\n",
       "      <th>index</th>\n",
       "      <th>Business_Description</th>\n",
       "      <th>Target</th>\n",
       "    </tr>\n",
       "  </thead>\n",
       "  <tbody>\n",
       "    <tr>\n",
       "      <td>0</td>\n",
       "      <td>2</td>\n",
       "      <td>12 Retech Corporation, through its subsidiarie...</td>\n",
       "      <td>Information_Technology</td>\n",
       "    </tr>\n",
       "    <tr>\n",
       "      <td>1</td>\n",
       "      <td>4</td>\n",
       "      <td>1847 Holdings LLC, through its subsidiaries, p...</td>\n",
       "      <td>Commercial_and_Professional _ervices</td>\n",
       "    </tr>\n",
       "    <tr>\n",
       "      <td>2</td>\n",
       "      <td>5</td>\n",
       "      <td>1867 Western Financial Corporation, through it...</td>\n",
       "      <td>Banks</td>\n",
       "    </tr>\n",
       "    <tr>\n",
       "      <td>3</td>\n",
       "      <td>6</td>\n",
       "      <td>1mage Software Inc operates in the technology ...</td>\n",
       "      <td>Application_Software</td>\n",
       "    </tr>\n",
       "    <tr>\n",
       "      <td>4</td>\n",
       "      <td>7</td>\n",
       "      <td>1PM Industries, Inc. provides consulting servi...</td>\n",
       "      <td>Commercial_and_Professional _ervices</td>\n",
       "    </tr>\n",
       "    <tr>\n",
       "      <td>...</td>\n",
       "      <td>...</td>\n",
       "      <td>...</td>\n",
       "      <td>...</td>\n",
       "    </tr>\n",
       "    <tr>\n",
       "      <td>1182</td>\n",
       "      <td>1996</td>\n",
       "      <td>Delek US Holdings, Inc. engages in the integra...</td>\n",
       "      <td>Energy</td>\n",
       "    </tr>\n",
       "    <tr>\n",
       "      <td>1183</td>\n",
       "      <td>1997</td>\n",
       "      <td>Delhi Bank Corp. operates as a bank holding co...</td>\n",
       "      <td>Banks</td>\n",
       "    </tr>\n",
       "    <tr>\n",
       "      <td>1184</td>\n",
       "      <td>1999</td>\n",
       "      <td>Delivery Technology Solutions, Inc. offers res...</td>\n",
       "      <td>Commercial_and_Professional _ervices</td>\n",
       "    </tr>\n",
       "    <tr>\n",
       "      <td>1185</td>\n",
       "      <td>2000</td>\n",
       "      <td>Delmar Bancorp operates as the bank holding co...</td>\n",
       "      <td>Banks</td>\n",
       "    </tr>\n",
       "    <tr>\n",
       "      <td>1186</td>\n",
       "      <td>2001</td>\n",
       "      <td>Delmarva Bancshares, Inc. operates as the bank...</td>\n",
       "      <td>Banks</td>\n",
       "    </tr>\n",
       "  </tbody>\n",
       "</table>\n",
       "<p>1187 rows × 3 columns</p>\n",
       "</div>"
      ],
      "text/plain": [
       "      index                               Business_Description  \\\n",
       "0         2  12 Retech Corporation, through its subsidiarie...   \n",
       "1         4  1847 Holdings LLC, through its subsidiaries, p...   \n",
       "2         5  1867 Western Financial Corporation, through it...   \n",
       "3         6  1mage Software Inc operates in the technology ...   \n",
       "4         7  1PM Industries, Inc. provides consulting servi...   \n",
       "...     ...                                                ...   \n",
       "1182   1996  Delek US Holdings, Inc. engages in the integra...   \n",
       "1183   1997  Delhi Bank Corp. operates as a bank holding co...   \n",
       "1184   1999  Delivery Technology Solutions, Inc. offers res...   \n",
       "1185   2000  Delmar Bancorp operates as the bank holding co...   \n",
       "1186   2001  Delmarva Bancshares, Inc. operates as the bank...   \n",
       "\n",
       "                                    Target  \n",
       "0                   Information_Technology  \n",
       "1     Commercial_and_Professional _ervices  \n",
       "2                                    Banks  \n",
       "3                     Application_Software  \n",
       "4     Commercial_and_Professional _ervices  \n",
       "...                                    ...  \n",
       "1182                                Energy  \n",
       "1183                                 Banks  \n",
       "1184  Commercial_and_Professional _ervices  \n",
       "1185                                 Banks  \n",
       "1186                                 Banks  \n",
       "\n",
       "[1187 rows x 3 columns]"
      ]
     },
     "execution_count": 276,
     "metadata": {},
     "output_type": "execute_result"
    }
   ],
   "source": [
    "df_filtered.reset_index()"
   ]
  },
  {
   "cell_type": "code",
   "execution_count": 277,
   "metadata": {},
   "outputs": [
    {
     "data": {
      "image/png": "[encoded data removed]",
      "text/plain": [
       "<Figure size 576x432 with 1 Axes>"
      ]
     },
     "metadata": {
      "needs_background": "light"
     },
     "output_type": "display_data"
    }
   ],
   "source": [
    "import matplotlib.pyplot as plt\n",
    "fig = plt.figure(figsize=(8,6))\n",
    "df_filtered.groupby('Target').Business_Description.count().plot.bar(ylim=0)\n",
    "plt.show()"
   ]
  },
  {
   "cell_type": "markdown",
   "metadata": {},
   "source": [
    "## Basic feature extraction using text data\n",
    "\n",
    "1]Number of words\n",
    "\n",
    "2]Number of characters\n",
    "\n",
    "3]Average word length\n",
    "\n",
    "4]Number of stopwords\n",
    "\n",
    "5]Number of special characters\n",
    "\n",
    "6]Number of numerics\n",
    "\n",
    "7]Number of uppercase words"
   ]
  },
  {
   "cell_type": "markdown",
   "metadata": {},
   "source": [
    "# 1"
   ]
  },
  {
   "cell_type": "code",
   "execution_count": 278,
   "metadata": {
    "scrolled": false
   },
   "outputs": [],
   "source": [
    "df_filtered['word_count'] = df_filtered['Business_Description'].apply(lambda x: len(str(x).split(\" \")))"
   ]
  },
  {
   "cell_type": "code",
   "execution_count": 279,
   "metadata": {},
   "outputs": [
    {
     "name": "stdout",
     "output_type": "stream",
     "text": [
      "\n",
      "\n",
      "WORD COUNT\n",
      "\n",
      "\n",
      "                                Business_Description  word_count\n",
      "2  12 Retech Corporation, through its subsidiarie...         175\n",
      "4  1847 Holdings LLC, through its subsidiaries, p...         107\n",
      "5  1867 Western Financial Corporation, through it...          25\n",
      "6  1mage Software Inc operates in the technology ...         227\n",
      "7  1PM Industries, Inc. provides consulting servi...          33\n"
     ]
    }
   ],
   "source": [
    "#text with word count\n",
    "print('\\n\\nWORD COUNT\\n\\n')\n",
    "print(df_filtered[['Business_Description','word_count']].head())"
   ]
  },
  {
   "cell_type": "markdown",
   "metadata": {},
   "source": [
    "# 2"
   ]
  },
  {
   "cell_type": "code",
   "execution_count": 280,
   "metadata": {},
   "outputs": [
    {
     "name": "stdout",
     "output_type": "stream",
     "text": [
      "\n",
      "\n",
      "NUMBER OF CHARACTERS\n",
      "\n",
      "\n",
      "                                Business_Description  char_count\n",
      "2  12 Retech Corporation, through its subsidiarie...        1183\n",
      "4  1847 Holdings LLC, through its subsidiaries, p...         723\n",
      "5  1867 Western Financial Corporation, through it...         186\n",
      "6  1mage Software Inc operates in the technology ...        1663\n",
      "7  1PM Industries, Inc. provides consulting servi...         218\n"
     ]
    }
   ],
   "source": [
    "# number of characters\n",
    "print('\\n\\nNUMBER OF CHARACTERS\\n\\n')\n",
    "df_filtered['char_count'] = df_filtered['Business_Description'].str.len() ## this also includes spaces\n",
    "print(df_filtered[['Business_Description','char_count']].head())"
   ]
  },
  {
   "cell_type": "markdown",
   "metadata": {},
   "source": [
    "## 3"
   ]
  },
  {
   "cell_type": "code",
   "execution_count": 281,
   "metadata": {},
   "outputs": [
    {
     "data": {
      "text/html": [
       "<div>\n",
       "<style scoped>\n",
       "    .dataframe tbody tr th:only-of-type {\n",
       "        vertical-align: middle;\n",
       "    }\n",
       "\n",
       "    .dataframe tbody tr th {\n",
       "        vertical-align: top;\n",
       "    }\n",
       "\n",
       "    .dataframe thead th {\n",
       "        text-align: right;\n",
       "    }\n",
       "</style>\n",
       "<table border=\"1\" class=\"dataframe\">\n",
       "  <thead>\n",
       "    <tr style=\"text-align: right;\">\n",
       "      <th></th>\n",
       "      <th>Business_Description</th>\n",
       "      <th>avg_word</th>\n",
       "    </tr>\n",
       "  </thead>\n",
       "  <tbody>\n",
       "    <tr>\n",
       "      <td>2</td>\n",
       "      <td>12 Retech Corporation, through its subsidiarie...</td>\n",
       "      <td>5.765714</td>\n",
       "    </tr>\n",
       "    <tr>\n",
       "      <td>4</td>\n",
       "      <td>1847 Holdings LLC, through its subsidiaries, p...</td>\n",
       "      <td>5.766355</td>\n",
       "    </tr>\n",
       "    <tr>\n",
       "      <td>5</td>\n",
       "      <td>1867 Western Financial Corporation, through it...</td>\n",
       "      <td>6.480000</td>\n",
       "    </tr>\n",
       "    <tr>\n",
       "      <td>6</td>\n",
       "      <td>1mage Software Inc operates in the technology ...</td>\n",
       "      <td>6.330396</td>\n",
       "    </tr>\n",
       "    <tr>\n",
       "      <td>7</td>\n",
       "      <td>1PM Industries, Inc. provides consulting servi...</td>\n",
       "      <td>5.636364</td>\n",
       "    </tr>\n",
       "  </tbody>\n",
       "</table>\n",
       "</div>"
      ],
      "text/plain": [
       "                                Business_Description  avg_word\n",
       "2  12 Retech Corporation, through its subsidiarie...  5.765714\n",
       "4  1847 Holdings LLC, through its subsidiaries, p...  5.766355\n",
       "5  1867 Western Financial Corporation, through it...  6.480000\n",
       "6  1mage Software Inc operates in the technology ...  6.330396\n",
       "7  1PM Industries, Inc. provides consulting servi...  5.636364"
      ]
     },
     "execution_count": 281,
     "metadata": {},
     "output_type": "execute_result"
    }
   ],
   "source": [
    "def avg_word(sentence):\n",
    "  words = sentence.split()\n",
    "  return (sum(len(word) for word in words)/len(words))\n",
    "\n",
    "df_filtered['avg_word'] = df_filtered['Business_Description'].apply(lambda x: avg_word(x))\n",
    "df_filtered[['Business_Description','avg_word']].head()"
   ]
  },
  {
   "cell_type": "markdown",
   "metadata": {},
   "source": [
    "## 4"
   ]
  },
  {
   "cell_type": "code",
   "execution_count": 282,
   "metadata": {},
   "outputs": [
    {
     "name": "stdout",
     "output_type": "stream",
     "text": [
      "\n",
      "\n",
      "NUMBER OF STOP WORDS\n",
      "\n",
      "\n",
      "                                Business_Description  stopwords\n",
      "2  12 Retech Corporation, through its subsidiarie...         62\n",
      "4  1847 Holdings LLC, through its subsidiaries, p...         31\n",
      "5  1867 Western Financial Corporation, through it...          8\n",
      "6  1mage Software Inc operates in the technology ...         67\n",
      "7  1PM Industries, Inc. provides consulting servi...         11\n"
     ]
    }
   ],
   "source": [
    "print('\\n\\nNUMBER OF STOP WORDS\\n\\n')\n",
    "stop = stopwords.words('english')\n",
    "\n",
    "df_filtered['stopwords'] = df_filtered['Business_Description'].apply(lambda x: len([x for x in x.split() if x in stop]))\n",
    "print(df_filtered[['Business_Description','stopwords']].head())"
   ]
  },
  {
   "cell_type": "markdown",
   "metadata": {},
   "source": [
    "# 5"
   ]
  },
  {
   "cell_type": "code",
   "execution_count": 283,
   "metadata": {},
   "outputs": [
    {
     "name": "stdout",
     "output_type": "stream",
     "text": [
      "\n",
      "\n",
      "NUMBER OF SPECIAL CHARACTERS\n",
      "\n",
      "\n",
      "                                Business_Description  hastags\n",
      "2  12 Retech Corporation, through its subsidiarie...        0\n",
      "4  1847 Holdings LLC, through its subsidiaries, p...        0\n",
      "5  1867 Western Financial Corporation, through it...        0\n",
      "6  1mage Software Inc operates in the technology ...        0\n",
      "7  1PM Industries, Inc. provides consulting servi...        0\n"
     ]
    }
   ],
   "source": [
    "print('\\n\\nNUMBER OF SPECIAL CHARACTERS\\n\\n')\n",
    "df_filtered['hastags'] = df_filtered['Business_Description'].apply(lambda x: len([x for x in x.split() if x.startswith('#')]))\n",
    "print(df_filtered[['Business_Description','hastags']].head())"
   ]
  },
  {
   "cell_type": "markdown",
   "metadata": {},
   "source": [
    "## 6"
   ]
  },
  {
   "cell_type": "code",
   "execution_count": 284,
   "metadata": {},
   "outputs": [
    {
     "name": "stdout",
     "output_type": "stream",
     "text": [
      "\n",
      "\n",
      "NUMBER OF NUMERICS\n",
      "\n",
      "\n",
      "                                Business_Description  numerics\n",
      "2  12 Retech Corporation, through its subsidiarie...         2\n",
      "4  1847 Holdings LLC, through its subsidiaries, p...         4\n",
      "5  1867 Western Financial Corporation, through it...         2\n",
      "6  1mage Software Inc operates in the technology ...         0\n",
      "7  1PM Industries, Inc. provides consulting servi...         1\n"
     ]
    }
   ],
   "source": [
    "print('\\n\\nNUMBER OF NUMERICS\\n\\n')\n",
    "df_filtered['numerics'] = df_filtered['Business_Description'].apply(lambda x: len([x for x in x.split() if x.isdigit()]))\n",
    "print(df_filtered[['Business_Description','numerics']].head())"
   ]
  },
  {
   "cell_type": "markdown",
   "metadata": {},
   "source": [
    "## 7"
   ]
  },
  {
   "cell_type": "code",
   "execution_count": 285,
   "metadata": {},
   "outputs": [
    {
     "data": {
      "text/html": [
       "<div>\n",
       "<style scoped>\n",
       "    .dataframe tbody tr th:only-of-type {\n",
       "        vertical-align: middle;\n",
       "    }\n",
       "\n",
       "    .dataframe tbody tr th {\n",
       "        vertical-align: top;\n",
       "    }\n",
       "\n",
       "    .dataframe thead th {\n",
       "        text-align: right;\n",
       "    }\n",
       "</style>\n",
       "<table border=\"1\" class=\"dataframe\">\n",
       "  <thead>\n",
       "    <tr style=\"text-align: right;\">\n",
       "      <th></th>\n",
       "      <th>Business_Description</th>\n",
       "      <th>upper</th>\n",
       "    </tr>\n",
       "  </thead>\n",
       "  <tbody>\n",
       "    <tr>\n",
       "      <td>2</td>\n",
       "      <td>12 Retech Corporation, through its subsidiarie...</td>\n",
       "      <td>0</td>\n",
       "    </tr>\n",
       "    <tr>\n",
       "      <td>4</td>\n",
       "      <td>1847 Holdings LLC, through its subsidiaries, p...</td>\n",
       "      <td>3</td>\n",
       "    </tr>\n",
       "    <tr>\n",
       "      <td>5</td>\n",
       "      <td>1867 Western Financial Corporation, through it...</td>\n",
       "      <td>0</td>\n",
       "    </tr>\n",
       "    <tr>\n",
       "      <td>6</td>\n",
       "      <td>1mage Software Inc operates in the technology ...</td>\n",
       "      <td>12</td>\n",
       "    </tr>\n",
       "    <tr>\n",
       "      <td>7</td>\n",
       "      <td>1PM Industries, Inc. provides consulting servi...</td>\n",
       "      <td>1</td>\n",
       "    </tr>\n",
       "  </tbody>\n",
       "</table>\n",
       "</div>"
      ],
      "text/plain": [
       "                                Business_Description  upper\n",
       "2  12 Retech Corporation, through its subsidiarie...      0\n",
       "4  1847 Holdings LLC, through its subsidiaries, p...      3\n",
       "5  1867 Western Financial Corporation, through it...      0\n",
       "6  1mage Software Inc operates in the technology ...     12\n",
       "7  1PM Industries, Inc. provides consulting servi...      1"
      ]
     },
     "execution_count": 285,
     "metadata": {},
     "output_type": "execute_result"
    }
   ],
   "source": [
    "df_filtered['upper'] = df_filtered['Business_Description'].apply(lambda x: len([x for x in x.split() if x.isupper()]))\n",
    "df_filtered[['Business_Description','upper']].head()"
   ]
  },
  {
   "cell_type": "markdown",
   "metadata": {},
   "source": [
    "## Basic Text Pre-processing of text data:"
   ]
  },
  {
   "cell_type": "markdown",
   "metadata": {},
   "source": [
    "### 1] Lower case"
   ]
  },
  {
   "cell_type": "code",
   "execution_count": 286,
   "metadata": {},
   "outputs": [
    {
     "data": {
      "text/plain": [
       "2    12 retech corporation, through its subsidiarie...\n",
       "4    1847 holdings llc, through its subsidiaries, p...\n",
       "5    1867 western financial corporation, through it...\n",
       "6    1mage software inc operates in the technology ...\n",
       "7    1pm industries, inc. provides consulting servi...\n",
       "Name: Business_Description, dtype: object"
      ]
     },
     "execution_count": 286,
     "metadata": {},
     "output_type": "execute_result"
    }
   ],
   "source": [
    "df_filtered['Business_Description'] = df_filtered['Business_Description'].apply(lambda x: \" \".join(x.lower() for x in x.split()))\n",
    "df_filtered['Business_Description'].head()"
   ]
  },
  {
   "cell_type": "markdown",
   "metadata": {},
   "source": [
    "### 2]Removing Punctuation"
   ]
  },
  {
   "cell_type": "code",
   "execution_count": 287,
   "metadata": {},
   "outputs": [
    {
     "data": {
      "text/plain": [
       "2    12 retech corporation through its subsidiaries...\n",
       "4    1847 holdings llc through its subsidiaries pro...\n",
       "5    1867 western financial corporation through its...\n",
       "6    1mage software inc operates in the technology ...\n",
       "7    1pm industries inc provides consulting service...\n",
       "Name: Business_Description, dtype: object"
      ]
     },
     "execution_count": 287,
     "metadata": {},
     "output_type": "execute_result"
    }
   ],
   "source": [
    "df_filtered['Business_Description'] = df_filtered['Business_Description'].str.replace('[^\\w\\s]','')\n",
    "df_filtered['Business_Description'].head()"
   ]
  },
  {
   "cell_type": "markdown",
   "metadata": {},
   "source": [
    "### 3] Removal of Stop Words"
   ]
  },
  {
   "cell_type": "code",
   "execution_count": 288,
   "metadata": {},
   "outputs": [
    {
     "data": {
      "text/plain": [
       "2    12 retech corporation subsidiaries operates in...\n",
       "4    1847 holdings llc subsidiaries provides range ...\n",
       "5    1867 western financial corporation subsidiarie...\n",
       "6    1mage software inc operates technology industr...\n",
       "7    1pm industries inc provides consulting service...\n",
       "Name: Business_Description, dtype: object"
      ]
     },
     "execution_count": 288,
     "metadata": {},
     "output_type": "execute_result"
    }
   ],
   "source": [
    "from nltk.corpus import stopwords\n",
    "stop = stopwords.words('english')\n",
    "df_filtered['Business_Description'] = df_filtered['Business_Description'].apply(lambda x: \" \".join(x for x in x.split() if x not in stop))\n",
    "df_filtered['Business_Description'].head()"
   ]
  },
  {
   "cell_type": "markdown",
   "metadata": {},
   "source": [
    "### 4]Common word removal"
   ]
  },
  {
   "cell_type": "code",
   "execution_count": 289,
   "metadata": {},
   "outputs": [
    {
     "data": {
      "text/plain": [
       "company     2661\n",
       "services    2046\n",
       "inc         2012\n",
       "products    1317\n",
       "loans       1158\n",
       "provides    1146\n",
       "offers       999\n",
       "well         902\n",
       "founded      864\n",
       "also         780\n",
       "dtype: int64"
      ]
     },
     "execution_count": 289,
     "metadata": {},
     "output_type": "execute_result"
    }
   ],
   "source": [
    "freq = pd.Series(' '.join(df_filtered['Business_Description']).split()).value_counts()[:10]\n",
    "freq"
   ]
  },
  {
   "cell_type": "code",
   "execution_count": 290,
   "metadata": {},
   "outputs": [],
   "source": [
    "## let’s remove these words as their presence will not of any use in classification of our text data"
   ]
  },
  {
   "cell_type": "code",
   "execution_count": 291,
   "metadata": {},
   "outputs": [
    {
     "data": {
      "text/plain": [
       "2    12 retech corporation subsidiaries operates in...\n",
       "4    1847 holdings llc subsidiaries range agricultu...\n",
       "5    1867 western financial corporation subsidiarie...\n",
       "6    1mage software operates technology industry ca...\n",
       "7    1pm industries consulting companies various in...\n",
       "Name: Business_Description, dtype: object"
      ]
     },
     "execution_count": 291,
     "metadata": {},
     "output_type": "execute_result"
    }
   ],
   "source": [
    "freq = list(freq.index)\n",
    "df_filtered['Business_Description'] = df_filtered['Business_Description'].apply(lambda x: \" \".join(x for x in x.split() if x not in freq))\n",
    "df_filtered['Business_Description'].head()"
   ]
  },
  {
   "cell_type": "markdown",
   "metadata": {},
   "source": [
    "### 5] Rare words removal"
   ]
  },
  {
   "cell_type": "code",
   "execution_count": 292,
   "metadata": {},
   "outputs": [
    {
     "data": {
      "text/plain": [
       "biosimiliar     1\n",
       "t3              1\n",
       "feedstocks      1\n",
       "ttr             1\n",
       "marketmaking    1\n",
       "abraxas         1\n",
       "lucia           1\n",
       "degreasers      1\n",
       "biocentric      1\n",
       "hyaloss         1\n",
       "dtype: int64"
      ]
     },
     "execution_count": 292,
     "metadata": {},
     "output_type": "execute_result"
    }
   ],
   "source": [
    "freq_rare = pd.Series(' '.join(df_filtered['Business_Description']).split()).value_counts()[-10:]\n",
    "freq_rare"
   ]
  },
  {
   "cell_type": "code",
   "execution_count": 293,
   "metadata": {},
   "outputs": [
    {
     "data": {
      "text/plain": [
       "2    12 retech corporation subsidiaries operates in...\n",
       "4    1847 holdings llc subsidiaries range agricultu...\n",
       "5    1867 western financial corporation subsidiarie...\n",
       "6    1mage software operates technology industry ca...\n",
       "7    1pm industries consulting companies various in...\n",
       "Name: Business_Description, dtype: object"
      ]
     },
     "execution_count": 293,
     "metadata": {},
     "output_type": "execute_result"
    }
   ],
   "source": [
    "freq_rare = list(freq_rare.index)\n",
    "df_filtered['Business_Description'] = df_filtered['Business_Description'].apply(lambda x: \" \".join(x for x in x.split() if x not in freq_rare))\n",
    "df_filtered['Business_Description'].head()"
   ]
  },
  {
   "cell_type": "markdown",
   "metadata": {},
   "source": [
    "### 6] Spelling correction"
   ]
  },
  {
   "cell_type": "code",
   "execution_count": 294,
   "metadata": {},
   "outputs": [],
   "source": [
    "#pip install textblob"
   ]
  },
  {
   "cell_type": "code",
   "execution_count": 295,
   "metadata": {},
   "outputs": [
    {
     "data": {
      "text/plain": [
       "2    12 reach corporation subsidiaries operate inte...\n",
       "4    1847 holdings ll subsidiaries range agricultur...\n",
       "5    1867 western financial corporation subsidiarie...\n",
       "6    image software operate technology industry cap...\n",
       "7    pm industries consulting companies various ind...\n",
       "Name: Business_Description, dtype: object"
      ]
     },
     "execution_count": 295,
     "metadata": {},
     "output_type": "execute_result"
    }
   ],
   "source": [
    "from textblob import TextBlob\n",
    "df_filtered['Business_Description'][:5].apply(lambda x: str(TextBlob(x).correct()))"
   ]
  },
  {
   "cell_type": "markdown",
   "metadata": {},
   "source": [
    "### 7] Tokenization"
   ]
  },
  {
   "cell_type": "code",
   "execution_count": 296,
   "metadata": {},
   "outputs": [
    {
     "data": {
      "text/plain": [
       "WordList(['12', 'retech', 'corporation', 'subsidiaries', 'operates', 'integrated', 'retail', 'platform', 'asia', 'north', 'america', 'europe', 'platform', 'includes', '12mirror', 'instore', 'application', 'recognizes', 'clothes', 'person', 'fitting', 'takes', 'pictures', 'shared', 'friends', 'family', 'detects', 'gives', 'information', 'collects', 'data', 'consumers', 'shop', 'designer', 'manufacturer', '12kiosk', 'instore', 'application', 'browses', 'detects', 'information', 'place', 'orders', 'consumers', 'platform', '12adscreen', 'twoway', 'screen', 'voice', 'touch', 'capability', 'detects', 'people', 'front', 'screen', 'information', 'store', 'andor', 'download', 'advertised', 'pictures', 'videos', '12mobile', 'app', 'ecommerce', 'application', 'find', 'make', 'reservations', 'pay', 'purchases', 'addition', 'platform', 'staffsales', 'app', 'application', 'vendors', 'communicate', 'system', 'checking', 'product', 'information', 'inventory', 'location', '12sconti', 'app', 'helps', 'reducing', 'food', 'waste', '12', 'retech', 'corporation', 'based', 'carson', 'city', 'nevada'])"
      ]
     },
     "execution_count": 296,
     "metadata": {},
     "output_type": "execute_result"
    }
   ],
   "source": [
    "TextBlob(df_filtered['Business_Description'][2]).words"
   ]
  },
  {
   "cell_type": "markdown",
   "metadata": {},
   "source": [
    "### 8] Stemming "
   ]
  },
  {
   "cell_type": "code",
   "execution_count": 297,
   "metadata": {},
   "outputs": [
    {
     "data": {
      "text/plain": [
       "2       12 retech corpor subsidiari oper integr retail...\n",
       "4       1847 hold llc subsidiari rang agricultur const...\n",
       "5       1867 western financi corpor subsidiari person ...\n",
       "6       1mage softwar oper technolog industri captur i...\n",
       "7       1pm industri consult compani variou industri t...\n",
       "                              ...                        \n",
       "1996    delek us hold engag integr downstream energi b...\n",
       "1997    delhi bank corp oper bank hold delawar nation ...\n",
       "1999    deliveri technolog solut research develop mark...\n",
       "2000    delmar bancorp oper bank hold bank delmarva fi...\n",
       "2001    delmarva bancshar oper bank hold 1880 bank var...\n",
       "Name: Business_Description, Length: 1187, dtype: object"
      ]
     },
     "execution_count": 297,
     "metadata": {},
     "output_type": "execute_result"
    }
   ],
   "source": [
    "from nltk.stem import PorterStemmer\n",
    "st = PorterStemmer()\n",
    "df_filtered['Business_Description'].apply(lambda x: \" \".join([st.stem(word) for word in x.split()]))"
   ]
  },
  {
   "cell_type": "markdown",
   "metadata": {},
   "source": [
    "### 9] Lemmatization"
   ]
  },
  {
   "cell_type": "code",
   "execution_count": 298,
   "metadata": {},
   "outputs": [
    {
     "data": {
      "text/plain": [
       "2    12 retech corporation subsidiary operates inte...\n",
       "4    1847 holding llc subsidiary range agriculture ...\n",
       "5    1867 western financial corporation subsidiary ...\n",
       "6    1mage software operates technology industry ca...\n",
       "7    1pm industry consulting company various indust...\n",
       "Name: Business_Description, dtype: object"
      ]
     },
     "execution_count": 298,
     "metadata": {},
     "output_type": "execute_result"
    }
   ],
   "source": [
    "from textblob import Word\n",
    "df_filtered['Business_Description'] = df_filtered['Business_Description'].apply(lambda x: \" \".join([Word(word).lemmatize() for word in x.split()]))\n",
    "df_filtered['Business_Description'].head()"
   ]
  },
  {
   "cell_type": "markdown",
   "metadata": {},
   "source": [
    "### define X and Y"
   ]
  },
  {
   "cell_type": "code",
   "execution_count": 299,
   "metadata": {},
   "outputs": [],
   "source": [
    "X = df_filtered.Business_Description\n",
    "Y = df_filtered.Target"
   ]
  },
  {
   "cell_type": "code",
   "execution_count": 300,
   "metadata": {},
   "outputs": [
    {
     "data": {
      "text/plain": [
       "2       12 retech corporation subsidiary operates inte...\n",
       "4       1847 holding llc subsidiary range agriculture ...\n",
       "5       1867 western financial corporation subsidiary ...\n",
       "6       1mage software operates technology industry ca...\n",
       "7       1pm industry consulting company various indust...\n",
       "                              ...                        \n",
       "1996    delek u holding engages integrated downstream ...\n",
       "1997    delhi bank corp operates bank holding delaware...\n",
       "1999    delivery technology solution research developm...\n",
       "2000    delmar bancorp operates bank holding bank delm...\n",
       "2001    delmarva bancshares operates bank holding 1880...\n",
       "Name: Business_Description, Length: 1187, dtype: object"
      ]
     },
     "execution_count": 300,
     "metadata": {},
     "output_type": "execute_result"
    }
   ],
   "source": [
    "X"
   ]
  },
  {
   "cell_type": "code",
   "execution_count": 301,
   "metadata": {},
   "outputs": [
    {
     "data": {
      "text/plain": [
       "2                     Information_Technology\n",
       "4       Commercial_and_Professional _ervices\n",
       "5                                      Banks\n",
       "6                       Application_Software\n",
       "7       Commercial_and_Professional _ervices\n",
       "                        ...                 \n",
       "1996                                  Energy\n",
       "1997                                   Banks\n",
       "1999    Commercial_and_Professional _ervices\n",
       "2000                                   Banks\n",
       "2001                                   Banks\n",
       "Name: Target, Length: 1187, dtype: object"
      ]
     },
     "execution_count": 301,
     "metadata": {},
     "output_type": "execute_result"
    }
   ],
   "source": [
    "Y"
   ]
  },
  {
   "cell_type": "code",
   "execution_count": 302,
   "metadata": {},
   "outputs": [
    {
     "name": "stdout",
     "output_type": "stream",
     "text": [
      "(1187,)\n",
      "(1187,)\n"
     ]
    }
   ],
   "source": [
    "print(X.shape)\n",
    "print(Y.shape)"
   ]
  },
  {
   "cell_type": "code",
   "execution_count": 303,
   "metadata": {},
   "outputs": [],
   "source": [
    "X = X.reset_index(drop=True)"
   ]
  },
  {
   "cell_type": "code",
   "execution_count": 304,
   "metadata": {},
   "outputs": [],
   "source": [
    "Y = Y.reset_index(drop=True)"
   ]
  },
  {
   "cell_type": "code",
   "execution_count": 305,
   "metadata": {},
   "outputs": [
    {
     "data": {
      "text/plain": [
       "0       12 retech corporation subsidiary operates inte...\n",
       "1       1847 holding llc subsidiary range agriculture ...\n",
       "2       1867 western financial corporation subsidiary ...\n",
       "3       1mage software operates technology industry ca...\n",
       "4       1pm industry consulting company various indust...\n",
       "                              ...                        \n",
       "1182    delek u holding engages integrated downstream ...\n",
       "1183    delhi bank corp operates bank holding delaware...\n",
       "1184    delivery technology solution research developm...\n",
       "1185    delmar bancorp operates bank holding bank delm...\n",
       "1186    delmarva bancshares operates bank holding 1880...\n",
       "Name: Business_Description, Length: 1187, dtype: object"
      ]
     },
     "execution_count": 305,
     "metadata": {},
     "output_type": "execute_result"
    }
   ],
   "source": [
    "X"
   ]
  },
  {
   "cell_type": "code",
   "execution_count": 306,
   "metadata": {},
   "outputs": [
    {
     "data": {
      "text/plain": [
       "0                     Information_Technology\n",
       "1       Commercial_and_Professional _ervices\n",
       "2                                      Banks\n",
       "3                       Application_Software\n",
       "4       Commercial_and_Professional _ervices\n",
       "                        ...                 \n",
       "1182                                  Energy\n",
       "1183                                   Banks\n",
       "1184    Commercial_and_Professional _ervices\n",
       "1185                                   Banks\n",
       "1186                                   Banks\n",
       "Name: Target, Length: 1187, dtype: object"
      ]
     },
     "execution_count": 306,
     "metadata": {},
     "output_type": "execute_result"
    }
   ],
   "source": [
    "Y"
   ]
  },
  {
   "cell_type": "markdown",
   "metadata": {},
   "source": [
    "###  Advance Text Processing\n",
    "\n",
    "-->Up to this point, we have done all the basic pre-processing steps in order to clean our data. Now, we can finally move on to extracting features using NLP techniques"
   ]
  },
  {
   "cell_type": "markdown",
   "metadata": {},
   "source": [
    "## TF IDF"
   ]
  },
  {
   "cell_type": "code",
   "execution_count": 307,
   "metadata": {},
   "outputs": [
    {
     "data": {
      "text/plain": [
       "(1187, 12826)"
      ]
     },
     "execution_count": 307,
     "metadata": {},
     "output_type": "execute_result"
    }
   ],
   "source": [
    "from sklearn.feature_extraction.text import TfidfVectorizer\n",
    "tfidf = TfidfVectorizer(sublinear_tf=True, encoding='latin-1', min_df=1,max_df=1.0 ,stop_words='english')\n",
    "features = tfidf.fit_transform(X).toarray()\n",
    "labels = Y\n",
    "features.shape"
   ]
  },
  {
   "cell_type": "code",
   "execution_count": 308,
   "metadata": {},
   "outputs": [
    {
     "name": "stdout",
     "output_type": "stream",
     "text": [
      "(1187, 12826)\n",
      "(1187,)\n"
     ]
    }
   ],
   "source": [
    "print(features.shape)\n",
    "print(labels.shape)"
   ]
  },
  {
   "cell_type": "markdown",
   "metadata": {},
   "source": [
    "### Spliting train and test"
   ]
  },
  {
   "cell_type": "code",
   "execution_count": 309,
   "metadata": {},
   "outputs": [],
   "source": [
    "from sklearn.model_selection import train_test_split\n",
    "\n",
    "train_x,test_x,train_y,test_y=train_test_split(features,\n",
    "                                              labels,\n",
    "                                              test_size=.3,\n",
    "                                              random_state=42)"
   ]
  },
  {
   "cell_type": "code",
   "execution_count": 310,
   "metadata": {},
   "outputs": [
    {
     "name": "stdout",
     "output_type": "stream",
     "text": [
      "(830, 12826)\n",
      "(830,)\n",
      "(357, 12826)\n",
      "(357,)\n"
     ]
    }
   ],
   "source": [
    "print(train_x.shape)\n",
    "print(train_y.shape)\n",
    "print(test_x.shape)\n",
    "print(test_y.shape)"
   ]
  },
  {
   "cell_type": "code",
   "execution_count": 311,
   "metadata": {},
   "outputs": [
    {
     "name": "stdout",
     "output_type": "stream",
     "text": [
      "float64\n",
      "object\n",
      "float64\n",
      "object\n"
     ]
    }
   ],
   "source": [
    "print(train_x.dtype)\n",
    "print(train_y.dtype)\n",
    "print(test_x.dtype)\n",
    "print(test_y.dtype)"
   ]
  },
  {
   "cell_type": "markdown",
   "metadata": {},
   "source": [
    "## Use the ML Algorithms to Predict the outcome"
   ]
  },
  {
   "cell_type": "markdown",
   "metadata": {},
   "source": [
    "### Naive Bayes"
   ]
  },
  {
   "cell_type": "code",
   "execution_count": 312,
   "metadata": {},
   "outputs": [],
   "source": [
    "from sklearn import model_selection, naive_bayes, svm\n",
    "from sklearn.metrics import accuracy_score"
   ]
  },
  {
   "cell_type": "code",
   "execution_count": 313,
   "metadata": {},
   "outputs": [],
   "source": [
    "# import and instantiate a Multinomial Naive Bayes model\n",
    "from sklearn.naive_bayes import MultinomialNB\n",
    "nb = MultinomialNB()"
   ]
  },
  {
   "cell_type": "code",
   "execution_count": 314,
   "metadata": {},
   "outputs": [
    {
     "data": {
      "text/plain": [
       "array([0.        , 0.01838851, 0.01860543, ..., 0.66614691, 0.66740507,\n",
       "       0.73009413])"
      ]
     },
     "execution_count": 314,
     "metadata": {},
     "output_type": "execute_result"
    }
   ],
   "source": [
    "np.unique(train_x)"
   ]
  },
  {
   "cell_type": "code",
   "execution_count": 315,
   "metadata": {},
   "outputs": [
    {
     "name": "stdout",
     "output_type": "stream",
     "text": [
      "Wall time: 1.8 s\n"
     ]
    },
    {
     "data": {
      "text/plain": [
       "MultinomialNB(alpha=1.0, class_prior=None, fit_prior=True)"
      ]
     },
     "execution_count": 315,
     "metadata": {},
     "output_type": "execute_result"
    }
   ],
   "source": [
    "# train the model using X_train_dtm (timing it with an IPython \"magic command\")\n",
    "%time nb.fit(train_x,train_y)"
   ]
  },
  {
   "cell_type": "code",
   "execution_count": 316,
   "metadata": {},
   "outputs": [],
   "source": [
    "# make class predictions for test and train\n",
    "y_pred_test = nb.predict(test_x)\n",
    "y_pred_train = nb.predict(train_x)"
   ]
  },
  {
   "cell_type": "code",
   "execution_count": 317,
   "metadata": {},
   "outputs": [
    {
     "data": {
      "text/plain": [
       "array([[ 0,  0,  6,  0,  0,  0,  0,  0,  0,  0,  9],\n",
       "       [ 0,  0, 10,  0,  0,  0,  0,  0,  0,  0,  0],\n",
       "       [ 0,  0, 73,  0,  0,  0,  0,  0,  0,  0,  0],\n",
       "       [ 0,  0,  0, 41,  0,  0,  0,  0,  0,  1,  0],\n",
       "       [ 0,  0, 16,  0,  8,  0,  0,  0,  0,  0,  2],\n",
       "       [ 0,  0, 24,  2,  0,  0,  0,  0,  1,  4,  0],\n",
       "       [ 0,  0,  3,  0,  0,  0,  0,  0,  0,  0, 10],\n",
       "       [ 0,  0, 25,  0,  0,  0,  0,  6,  0,  1,  1],\n",
       "       [ 0,  0,  1,  0,  0,  0,  0,  0, 43,  0,  0],\n",
       "       [ 0,  0,  3, 10,  0,  0,  0,  0,  0, 30,  0],\n",
       "       [ 0,  0, 11,  0,  0,  0,  0,  0,  0,  1, 15]], dtype=int64)"
      ]
     },
     "execution_count": 317,
     "metadata": {},
     "output_type": "execute_result"
    }
   ],
   "source": [
    "# print the confusion matrix\n",
    "from sklearn import metrics\n",
    "from sklearn.metrics import accuracy_score, confusion_matrix\n",
    "metrics.confusion_matrix(test_y, y_pred_test)"
   ]
  },
  {
   "cell_type": "code",
   "execution_count": 318,
   "metadata": {},
   "outputs": [
    {
     "data": {
      "text/plain": [
       "array([[  0,   0,  15,   0,   0,   0,   0,   1,   2,   1,  16],\n",
       "       [  0,   0,  20,   0,   0,   0,   0,   2,   0,   0,   0],\n",
       "       [  0,   0, 168,   0,   0,   0,   0,   0,   0,   0,   0],\n",
       "       [  0,   0,   1, 101,   0,   0,   0,   0,   0,   1,   0],\n",
       "       [  0,   0,  23,   0,  37,   0,   0,   0,   1,   1,   0],\n",
       "       [  0,   0,  35,   0,   2,  10,   0,   0,   5,   2,   0],\n",
       "       [  0,   0,  10,   0,   0,   0,   0,   0,   0,   0,  14],\n",
       "       [  0,   0,  18,   0,   0,   0,   0,  64,   0,   1,   1],\n",
       "       [  0,   0,   3,   0,   0,   0,   0,   0,  86,   0,   0],\n",
       "       [  0,   0,   4,  10,   0,   0,   0,   0,   0,  96,   0],\n",
       "       [  0,   0,  11,   0,   0,   0,   0,   0,   0,   0,  68]],\n",
       "      dtype=int64)"
      ]
     },
     "execution_count": 318,
     "metadata": {},
     "output_type": "execute_result"
    }
   ],
   "source": [
    "# print the confusion matrix\n",
    "metrics.confusion_matrix(train_y, y_pred_train)"
   ]
  },
  {
   "cell_type": "code",
   "execution_count": 319,
   "metadata": {},
   "outputs": [
    {
     "data": {
      "text/plain": [
       "0.7590361445783133"
      ]
     },
     "execution_count": 319,
     "metadata": {},
     "output_type": "execute_result"
    }
   ],
   "source": [
    "# calculate accuracy of class predictions\n",
    "from sklearn import metrics\n",
    "metrics.accuracy_score(train_y, y_pred_train)"
   ]
  },
  {
   "cell_type": "code",
   "execution_count": 320,
   "metadata": {},
   "outputs": [
    {
     "data": {
      "text/plain": [
       "0.6050420168067226"
      ]
     },
     "execution_count": 320,
     "metadata": {},
     "output_type": "execute_result"
    }
   ],
   "source": [
    "metrics.accuracy_score(test_y, y_pred_test)"
   ]
  },
  {
   "cell_type": "markdown",
   "metadata": {},
   "source": [
    "### Apply Logistic regression"
   ]
  },
  {
   "cell_type": "code",
   "execution_count": 321,
   "metadata": {},
   "outputs": [
    {
     "name": "stderr",
     "output_type": "stream",
     "text": [
      "C:\\ProgramData\\Anaconda3\\lib\\site-packages\\sklearn\\linear_model\\logistic.py:432: FutureWarning: Default solver will be changed to 'lbfgs' in 0.22. Specify a solver to silence this warning.\n",
      "  FutureWarning)\n",
      "C:\\ProgramData\\Anaconda3\\lib\\site-packages\\sklearn\\linear_model\\logistic.py:469: FutureWarning: Default multi_class will be changed to 'auto' in 0.22. Specify the multi_class option to silence this warning.\n",
      "  \"this warning.\", FutureWarning)\n"
     ]
    },
    {
     "data": {
      "text/plain": [
       "LogisticRegression(C=1.0, class_weight=None, dual=False, fit_intercept=True,\n",
       "                   intercept_scaling=1, l1_ratio=None, max_iter=100,\n",
       "                   multi_class='warn', n_jobs=None, penalty='l2',\n",
       "                   random_state=None, solver='warn', tol=0.0001, verbose=0,\n",
       "                   warm_start=False)"
      ]
     },
     "execution_count": 321,
     "metadata": {},
     "output_type": "execute_result"
    }
   ],
   "source": [
    "from sklearn.linear_model import LogisticRegression\n",
    "\n",
    "logreg = LogisticRegression()\n",
    "logreg.fit( train_x, train_y)"
   ]
  },
  {
   "cell_type": "markdown",
   "metadata": {},
   "source": [
    "### Model Accuracy Evaluation"
   ]
  },
  {
   "cell_type": "code",
   "execution_count": 322,
   "metadata": {},
   "outputs": [],
   "source": [
    "y_pred=logreg.predict(test_x)"
   ]
  },
  {
   "cell_type": "code",
   "execution_count": 323,
   "metadata": {},
   "outputs": [
    {
     "data": {
      "text/plain": [
       "array([[ 0,  0,  0,  0,  1,  0,  0,  2,  0,  0, 12],\n",
       "       [ 0,  3,  2,  0,  0,  0,  0,  2,  0,  2,  1],\n",
       "       [ 0,  0, 72,  0,  0,  0,  0,  1,  0,  0,  0],\n",
       "       [ 0,  0,  0, 38,  0,  0,  0,  0,  0,  4,  0],\n",
       "       [ 0,  0,  0,  0, 14,  2,  0,  6,  1,  2,  1],\n",
       "       [ 0,  0,  1,  2,  1, 10,  0,  5,  1,  7,  4],\n",
       "       [ 0,  0,  0,  0,  0,  0,  0,  0,  0,  0, 13],\n",
       "       [ 0,  0,  0,  0,  0,  0,  0, 27,  0,  2,  4],\n",
       "       [ 0,  0,  0,  0,  0,  0,  0,  0, 44,  0,  0],\n",
       "       [ 0,  0,  0,  9,  0,  0,  0,  0,  0, 33,  1],\n",
       "       [ 0,  0,  0,  0,  1,  0,  0,  7,  0,  0, 19]], dtype=int64)"
      ]
     },
     "execution_count": 323,
     "metadata": {},
     "output_type": "execute_result"
    }
   ],
   "source": [
    "# import the metrics class\n",
    "from sklearn import metrics\n",
    "cnf_matrix = metrics.confusion_matrix(test_y, y_pred)\n",
    "cnf_matrix"
   ]
  },
  {
   "cell_type": "code",
   "execution_count": 324,
   "metadata": {},
   "outputs": [
    {
     "name": "stdout",
     "output_type": "stream",
     "text": [
      "train_accuracy:  0.9313253012048193\n",
      "test_accuracy:  0.7282913165266106\n"
     ]
    }
   ],
   "source": [
    "#Evelution of train and test accuracy\n",
    "from sklearn import metrics\n",
    "train_accuracy=metrics.accuracy_score(train_y,logreg.predict(train_x))\n",
    "print('train_accuracy: ',train_accuracy)\n",
    "\n",
    "test_accuracy=metrics.accuracy_score(test_y,logreg.predict(test_x))\n",
    "print('test_accuracy: ',test_accuracy)\n",
    "\n"
   ]
  },
  {
   "cell_type": "code",
   "execution_count": null,
   "metadata": {},
   "outputs": [],
   "source": []
  },
  {
   "cell_type": "code",
   "execution_count": null,
   "metadata": {},
   "outputs": [],
   "source": []
  },
  {
   "cell_type": "markdown",
   "metadata": {},
   "source": [
    "### XGBOOST"
   ]
  },
  {
   "cell_type": "code",
   "execution_count": 325,
   "metadata": {},
   "outputs": [],
   "source": [
    "from xgboost import XGBClassifier"
   ]
  },
  {
   "cell_type": "code",
   "execution_count": 326,
   "metadata": {},
   "outputs": [],
   "source": [
    "XGBClassifier?"
   ]
  },
  {
   "cell_type": "code",
   "execution_count": 327,
   "metadata": {},
   "outputs": [
    {
     "data": {
      "text/plain": [
       "XGBClassifier(base_score=0.5, booster='gbtree', colsample_bylevel=1,\n",
       "              colsample_bynode=1, colsample_bytree=1, gamma=0,\n",
       "              learning_rate=0.1, max_delta_step=0, max_depth=3,\n",
       "              min_child_weight=1, missing=None, n_estimators=100, n_jobs=-1,\n",
       "              nthread=None, objective='multi:softprob', random_state=42,\n",
       "              reg_alpha=0, reg_lambda=1, scale_pos_weight=1, seed=None,\n",
       "              silent=None, subsample=1, verbose=1, verbosity=1)"
      ]
     },
     "execution_count": 327,
     "metadata": {},
     "output_type": "execute_result"
    }
   ],
   "source": [
    "#All Columns\n",
    "xgb_estimator = XGBClassifier(random_state = 42,n_jobs=-1,verbose=1)\n",
    "xgb_estimator.fit(test_x,test_y)"
   ]
  },
  {
   "cell_type": "code",
   "execution_count": 328,
   "metadata": {},
   "outputs": [],
   "source": [
    "xgb_predict =xgb_estimator.predict(test_x)"
   ]
  },
  {
   "cell_type": "code",
   "execution_count": 329,
   "metadata": {},
   "outputs": [
    {
     "data": {
      "text/plain": [
       "array([[15,  0,  0,  0,  0,  0,  0,  0,  0,  0,  0],\n",
       "       [ 0, 10,  0,  0,  0,  0,  0,  0,  0,  0,  0],\n",
       "       [ 0,  0, 73,  0,  0,  0,  0,  0,  0,  0,  0],\n",
       "       [ 0,  0,  0, 42,  0,  0,  0,  0,  0,  0,  0],\n",
       "       [ 0,  0,  0,  0, 26,  0,  0,  0,  0,  0,  0],\n",
       "       [ 0,  0,  0,  0,  0, 31,  0,  0,  0,  0,  0],\n",
       "       [ 0,  0,  0,  0,  0,  0, 13,  0,  0,  0,  0],\n",
       "       [ 0,  0,  0,  0,  0,  0,  0, 33,  0,  0,  0],\n",
       "       [ 0,  0,  0,  0,  0,  0,  0,  0, 44,  0,  0],\n",
       "       [ 0,  0,  0,  0,  0,  0,  0,  0,  0, 43,  0],\n",
       "       [ 0,  0,  0,  0,  0,  0,  0,  0,  0,  0, 27]], dtype=int64)"
      ]
     },
     "execution_count": 329,
     "metadata": {},
     "output_type": "execute_result"
    }
   ],
   "source": [
    "# creating a confusion matrix \n",
    "cm = confusion_matrix(test_y, xgb_predict) \n",
    "cm"
   ]
  },
  {
   "cell_type": "code",
   "execution_count": 330,
   "metadata": {
    "scrolled": true
   },
   "outputs": [
    {
     "name": "stdout",
     "output_type": "stream",
     "text": [
      "                                      precision    recall  f1-score   support\n",
      "\n",
      "                Application_Software       1.00      1.00      1.00        15\n",
      "  Asset_Management_and_Custody_Banks       1.00      1.00      1.00        10\n",
      "                               Banks       1.00      1.00      1.00        73\n",
      "                       Biotechnology       1.00      1.00      1.00        42\n",
      "                       Capital Goods       1.00      1.00      1.00        26\n",
      "Commercial_and_Professional _ervices       1.00      1.00      1.00        31\n",
      "            Communications_Equipment       1.00      1.00      1.00        13\n",
      "              Consumer_Discretionary       1.00      1.00      1.00        33\n",
      "                              Energy       1.00      1.00      1.00        44\n",
      "                          Healthcare       1.00      1.00      1.00        43\n",
      "              Information_Technology       1.00      1.00      1.00        27\n",
      "\n",
      "                            accuracy                           1.00       357\n",
      "                           macro avg       1.00      1.00      1.00       357\n",
      "                        weighted avg       1.00      1.00      1.00       357\n",
      "\n"
     ]
    }
   ],
   "source": [
    "print(metrics.classification_report(test_y, xgb_predict))"
   ]
  },
  {
   "cell_type": "code",
   "execution_count": 331,
   "metadata": {},
   "outputs": [
    {
     "name": "stdout",
     "output_type": "stream",
     "text": [
      "test_accuracy:  1.0\n"
     ]
    }
   ],
   "source": [
    "test_accuracy=metrics.accuracy_score(test_y, xgb_predict)\n",
    "print('test_accuracy: ',test_accuracy)\n"
   ]
  },
  {
   "cell_type": "markdown",
   "metadata": {},
   "source": [
    "### svm"
   ]
  },
  {
   "cell_type": "code",
   "execution_count": 332,
   "metadata": {},
   "outputs": [
    {
     "data": {
      "text/plain": [
       "SVC(C=1.0, cache_size=200, class_weight=None, coef0=0.0,\n",
       "    decision_function_shape='ovr', degree=3, gamma='auto', kernel='linear',\n",
       "    max_iter=-1, probability=False, random_state=None, shrinking=True,\n",
       "    tol=0.001, verbose=False)"
      ]
     },
     "execution_count": 332,
     "metadata": {},
     "output_type": "execute_result"
    }
   ],
   "source": [
    "# Classifier - Algorithm - SVM\n",
    "# fit the training dataset on the classifier\n",
    "SVM = svm.SVC(C=1.0, kernel='linear', degree=3, gamma='auto').fit(train_x,train_y)\n",
    "SVM.fit(train_x,train_y)"
   ]
  },
  {
   "cell_type": "code",
   "execution_count": 333,
   "metadata": {},
   "outputs": [],
   "source": [
    "# predict the labels on validation dataset\n",
    "predictions_SVM = SVM.predict(test_x)"
   ]
  },
  {
   "cell_type": "code",
   "execution_count": 334,
   "metadata": {},
   "outputs": [
    {
     "data": {
      "text/plain": [
       "array([[ 1,  0,  0,  0,  0,  0,  0,  2,  0,  0, 12],\n",
       "       [ 0,  4,  1,  0,  0,  1,  0,  4,  0,  0,  0],\n",
       "       [ 0,  0, 70,  0,  0,  0,  0,  0,  0,  0,  3],\n",
       "       [ 0,  0,  0, 36,  0,  0,  0,  0,  0,  6,  0],\n",
       "       [ 0,  0,  0,  0, 17,  3,  0,  4,  0,  1,  1],\n",
       "       [ 0,  0,  0,  0,  1, 16,  0,  8,  0,  1,  5],\n",
       "       [ 0,  0,  0,  0,  0,  0,  5,  0,  0,  0,  8],\n",
       "       [ 0,  0,  0,  0,  1,  0,  0, 26,  0,  1,  5],\n",
       "       [ 0,  0,  0,  0,  0,  0,  0,  0, 44,  0,  0],\n",
       "       [ 0,  0,  0,  5,  0,  0,  0,  0,  0, 36,  2],\n",
       "       [ 1,  0,  0,  0,  1,  0,  0,  6,  0,  0, 19]], dtype=int64)"
      ]
     },
     "execution_count": 334,
     "metadata": {},
     "output_type": "execute_result"
    }
   ],
   "source": [
    "# creating a confusion matrix \n",
    "cm = confusion_matrix(test_y, predictions_SVM) \n",
    "cm"
   ]
  },
  {
   "cell_type": "code",
   "execution_count": 335,
   "metadata": {},
   "outputs": [
    {
     "name": "stdout",
     "output_type": "stream",
     "text": [
      "                                      precision    recall  f1-score   support\n",
      "\n",
      "                Application_Software       0.50      0.07      0.12        15\n",
      "  Asset_Management_and_Custody_Banks       1.00      0.40      0.57        10\n",
      "                               Banks       0.99      0.96      0.97        73\n",
      "                       Biotechnology       0.88      0.86      0.87        42\n",
      "                       Capital Goods       0.85      0.65      0.74        26\n",
      "Commercial_and_Professional _ervices       0.80      0.52      0.63        31\n",
      "            Communications_Equipment       1.00      0.38      0.56        13\n",
      "              Consumer_Discretionary       0.52      0.79      0.63        33\n",
      "                              Energy       1.00      1.00      1.00        44\n",
      "                          Healthcare       0.80      0.84      0.82        43\n",
      "              Information_Technology       0.35      0.70      0.46        27\n",
      "\n",
      "                            accuracy                           0.77       357\n",
      "                           macro avg       0.79      0.65      0.67       357\n",
      "                        weighted avg       0.82      0.77      0.77       357\n",
      "\n"
     ]
    }
   ],
   "source": [
    "print(metrics.classification_report(test_y, predictions_SVM))"
   ]
  },
  {
   "cell_type": "code",
   "execution_count": 336,
   "metadata": {},
   "outputs": [
    {
     "name": "stdout",
     "output_type": "stream",
     "text": [
      "SVM Accuracy Score test ->  0.7675070028011205\n"
     ]
    }
   ],
   "source": [
    "# Use accuracy_score function to get the accuracy\n",
    "print(\"SVM Accuracy Score test -> \",accuracy_score(test_y,predictions_SVM))"
   ]
  },
  {
   "cell_type": "markdown",
   "metadata": {},
   "source": [
    "### builded model using training data"
   ]
  },
  {
   "cell_type": "code",
   "execution_count": 337,
   "metadata": {},
   "outputs": [
    {
     "name": "stderr",
     "output_type": "stream",
     "text": [
      "C:\\ProgramData\\Anaconda3\\lib\\site-packages\\sklearn\\externals\\joblib\\__init__.py:15: DeprecationWarning: sklearn.externals.joblib is deprecated in 0.21 and will be removed in 0.23. Please import this functionality directly from joblib, which can be installed with: pip install joblib. If this warning is raised when loading pickled models, you may need to re-serialize those models with scikit-learn 0.21+.\n",
      "  warnings.warn(msg, category=DeprecationWarning)\n"
     ]
    },
    {
     "data": {
      "text/plain": [
       "['model.pkl']"
      ]
     },
     "execution_count": 337,
     "metadata": {},
     "output_type": "execute_result"
    }
   ],
   "source": [
    "# prepare the pipeline\n",
    "from sklearn.pipeline import make_pipeline\n",
    "from sklearn.preprocessing import StandardScaler\n",
    "from sklearn.linear_model import LogisticRegression\n",
    "from sklearn.externals import joblib\n",
    "\n",
    "joblib.dump(SVM, 'model.pkl')"
   ]
  },
  {
   "cell_type": "code",
   "execution_count": null,
   "metadata": {},
   "outputs": [],
   "source": []
  },
  {
   "cell_type": "code",
   "execution_count": null,
   "metadata": {},
   "outputs": [],
   "source": []
  },
  {
   "cell_type": "markdown",
   "metadata": {},
   "source": [
    "## classify the Companies in ‘Company Business description file."
   ]
  },
  {
   "cell_type": "code",
   "execution_count": null,
   "metadata": {},
   "outputs": [],
   "source": [
    "#import the required libraries\n",
    "import pandas as pd\n",
    "import numpy as np\n",
    "import wordcloud\n",
    "import nltk\n",
    "from nltk.corpus import stopwords\n",
    "nltk.download('wordnet')\n",
    "nltk.download('stopwords')\n",
    "from sklearn.feature_extraction.text import CountVectorizer, TfidfVectorizer\n",
    "\n",
    "#from textblob import TextBlob\n",
    "from nltk.corpus import stopwords\n",
    "from nltk.stem.porter import PorterStemmer\n",
    "from nltk.stem import WordNetLemmatizer\n",
    "from nltk.tokenize import word_tokenize"
   ]
  },
  {
   "cell_type": "code",
   "execution_count": 339,
   "metadata": {},
   "outputs": [],
   "source": [
    "US1 = pd.read_excel('Company_ Business Description.xlsx')"
   ]
  },
  {
   "cell_type": "code",
   "execution_count": 340,
   "metadata": {},
   "outputs": [
    {
     "data": {
      "text/html": [
       "<div>\n",
       "<style scoped>\n",
       "    .dataframe tbody tr th:only-of-type {\n",
       "        vertical-align: middle;\n",
       "    }\n",
       "\n",
       "    .dataframe tbody tr th {\n",
       "        vertical-align: top;\n",
       "    }\n",
       "\n",
       "    .dataframe thead th {\n",
       "        text-align: right;\n",
       "    }\n",
       "</style>\n",
       "<table border=\"1\" class=\"dataframe\">\n",
       "  <thead>\n",
       "    <tr style=\"text-align: right;\">\n",
       "      <th></th>\n",
       "      <th>Company Name</th>\n",
       "      <th>Exchange:Ticker</th>\n",
       "      <th>Company Type</th>\n",
       "      <th>Company Status</th>\n",
       "      <th>Geographic Locations</th>\n",
       "      <th>Business Description</th>\n",
       "      <th>Security Tickers</th>\n",
       "    </tr>\n",
       "  </thead>\n",
       "  <tbody>\n",
       "    <tr>\n",
       "      <td>0</td>\n",
       "      <td>024 Pharma, Inc. (OTCPK:EEIG)</td>\n",
       "      <td>OTCPK:EEIG</td>\n",
       "      <td>Public Company</td>\n",
       "      <td>Operating</td>\n",
       "      <td>United States of America (Primary)</td>\n",
       "      <td>024 Pharma, Inc. provides healthcare products ...</td>\n",
       "      <td>OTCPK:EEIG</td>\n",
       "    </tr>\n",
       "    <tr>\n",
       "      <td>1</td>\n",
       "      <td>1-800-FLOWERS.COM, Inc. (NasdaqGS:FLWS)</td>\n",
       "      <td>NasdaqGS:FLWS</td>\n",
       "      <td>Public Company</td>\n",
       "      <td>Operating</td>\n",
       "      <td>United States of America (Primary)</td>\n",
       "      <td>1-800-Flowers.com, Inc., together with its sub...</td>\n",
       "      <td>NasdaqGS:FLWS; DB:FWC</td>\n",
       "    </tr>\n",
       "    <tr>\n",
       "      <td>2</td>\n",
       "      <td>12 Retech Corporation (OTCPK:RETC)</td>\n",
       "      <td>OTCPK:RETC</td>\n",
       "      <td>Public Company</td>\n",
       "      <td>Operating</td>\n",
       "      <td>United States of America (Primary)</td>\n",
       "      <td>12 Retech Corporation, through its subsidiarie...</td>\n",
       "      <td>OTCPK:RETC</td>\n",
       "    </tr>\n",
       "    <tr>\n",
       "      <td>3</td>\n",
       "      <td>1347 Property Insurance Holdings, Inc. (Nasdaq...</td>\n",
       "      <td>NasdaqGM:PIH</td>\n",
       "      <td>Public Company</td>\n",
       "      <td>Operating</td>\n",
       "      <td>United States of America (Primary)</td>\n",
       "      <td>1347 Property Insurance Holdings, Inc., throug...</td>\n",
       "      <td>NasdaqGM:PIH</td>\n",
       "    </tr>\n",
       "    <tr>\n",
       "      <td>4</td>\n",
       "      <td>1847 Holdings LLC (OTCPK:EFSH)</td>\n",
       "      <td>OTCPK:EFSH</td>\n",
       "      <td>Public Company</td>\n",
       "      <td>Operating</td>\n",
       "      <td>United States of America (Primary)</td>\n",
       "      <td>1847 Holdings LLC, through its subsidiaries, p...</td>\n",
       "      <td>OTCPK:EFSH</td>\n",
       "    </tr>\n",
       "  </tbody>\n",
       "</table>\n",
       "</div>"
      ],
      "text/plain": [
       "                                        Company Name Exchange:Ticker  \\\n",
       "0                      024 Pharma, Inc. (OTCPK:EEIG)      OTCPK:EEIG   \n",
       "1            1-800-FLOWERS.COM, Inc. (NasdaqGS:FLWS)   NasdaqGS:FLWS   \n",
       "2                 12 Retech Corporation (OTCPK:RETC)      OTCPK:RETC   \n",
       "3  1347 Property Insurance Holdings, Inc. (Nasdaq...    NasdaqGM:PIH   \n",
       "4                     1847 Holdings LLC (OTCPK:EFSH)      OTCPK:EFSH   \n",
       "\n",
       "     Company Type Company Status                Geographic Locations  \\\n",
       "0  Public Company      Operating  United States of America (Primary)   \n",
       "1  Public Company      Operating  United States of America (Primary)   \n",
       "2  Public Company      Operating  United States of America (Primary)   \n",
       "3  Public Company      Operating  United States of America (Primary)   \n",
       "4  Public Company      Operating  United States of America (Primary)   \n",
       "\n",
       "                                Business Description       Security Tickers  \n",
       "0  024 Pharma, Inc. provides healthcare products ...             OTCPK:EEIG  \n",
       "1  1-800-Flowers.com, Inc., together with its sub...  NasdaqGS:FLWS; DB:FWC  \n",
       "2  12 Retech Corporation, through its subsidiarie...             OTCPK:RETC  \n",
       "3  1347 Property Insurance Holdings, Inc., throug...           NasdaqGM:PIH  \n",
       "4  1847 Holdings LLC, through its subsidiaries, p...             OTCPK:EFSH  "
      ]
     },
     "execution_count": 340,
     "metadata": {},
     "output_type": "execute_result"
    }
   ],
   "source": [
    "US1.head()"
   ]
  },
  {
   "cell_type": "code",
   "execution_count": 341,
   "metadata": {
    "scrolled": true
   },
   "outputs": [
    {
     "data": {
      "text/plain": [
       "Index(['Company Name', 'Exchange:Ticker', 'Company Type', 'Company Status',\n",
       "       'Geographic Locations', 'Business Description', 'Security Tickers'],\n",
       "      dtype='object')"
      ]
     },
     "execution_count": 341,
     "metadata": {},
     "output_type": "execute_result"
    }
   ],
   "source": [
    "US1.columns"
   ]
  },
  {
   "cell_type": "code",
   "execution_count": 342,
   "metadata": {},
   "outputs": [
    {
     "data": {
      "text/plain": [
       "(8425, 7)"
      ]
     },
     "execution_count": 342,
     "metadata": {},
     "output_type": "execute_result"
    }
   ],
   "source": [
    "US1.shape"
   ]
  },
  {
   "cell_type": "code",
   "execution_count": 343,
   "metadata": {},
   "outputs": [
    {
     "data": {
      "text/plain": [
       "Company Name            object\n",
       "Exchange:Ticker         object\n",
       "Company Type            object\n",
       "Company Status          object\n",
       "Geographic Locations    object\n",
       "Business Description    object\n",
       "Security Tickers        object\n",
       "dtype: object"
      ]
     },
     "execution_count": 343,
     "metadata": {},
     "output_type": "execute_result"
    }
   ],
   "source": [
    "US1.dtypes"
   ]
  },
  {
   "cell_type": "code",
   "execution_count": 344,
   "metadata": {},
   "outputs": [
    {
     "data": {
      "text/plain": [
       "False    8425\n",
       "dtype: int64"
      ]
     },
     "execution_count": 344,
     "metadata": {},
     "output_type": "execute_result"
    }
   ],
   "source": [
    "#checking duplicate values \n",
    "US1.duplicated().value_counts()# no duplicateds"
   ]
  },
  {
   "cell_type": "code",
   "execution_count": 345,
   "metadata": {},
   "outputs": [
    {
     "data": {
      "text/plain": [
       "False    7\n",
       "dtype: int64"
      ]
     },
     "execution_count": 345,
     "metadata": {},
     "output_type": "execute_result"
    }
   ],
   "source": [
    "#Checking for missing values\n",
    "US1.isnull().any().value_counts()"
   ]
  },
  {
   "cell_type": "markdown",
   "metadata": {},
   "source": [
    "## Basic Text Pre-processing of text data:"
   ]
  },
  {
   "cell_type": "markdown",
   "metadata": {},
   "source": [
    "### 1] Lower case"
   ]
  },
  {
   "cell_type": "code",
   "execution_count": 346,
   "metadata": {},
   "outputs": [
    {
     "data": {
      "text/plain": [
       "0    024 pharma, inc. provides healthcare products ...\n",
       "1    1-800-flowers.com, inc., together with its sub...\n",
       "2    12 retech corporation, through its subsidiarie...\n",
       "3    1347 property insurance holdings, inc., throug...\n",
       "4    1847 holdings llc, through its subsidiaries, p...\n",
       "Name: Business Description, dtype: object"
      ]
     },
     "execution_count": 346,
     "metadata": {},
     "output_type": "execute_result"
    }
   ],
   "source": [
    "US1['Business Description'] = US1['Business Description'].apply(lambda x: \" \".join(x.lower() for x in x.split()))\n",
    "US1['Business Description'].head()"
   ]
  },
  {
   "cell_type": "markdown",
   "metadata": {},
   "source": [
    "### 2]Removing Punctuation"
   ]
  },
  {
   "cell_type": "code",
   "execution_count": 347,
   "metadata": {},
   "outputs": [
    {
     "data": {
      "text/plain": [
       "0    024 pharma inc provides healthcare products wo...\n",
       "1    1800flowerscom inc together with its subsidiar...\n",
       "2    12 retech corporation through its subsidiaries...\n",
       "3    1347 property insurance holdings inc through i...\n",
       "4    1847 holdings llc through its subsidiaries pro...\n",
       "Name: Business Description, dtype: object"
      ]
     },
     "execution_count": 347,
     "metadata": {},
     "output_type": "execute_result"
    }
   ],
   "source": [
    "US1['Business Description'] = US1['Business Description'].str.replace('[^\\w\\s]','')\n",
    "US1['Business Description'].head()"
   ]
  },
  {
   "cell_type": "markdown",
   "metadata": {},
   "source": [
    "### 3] Removal of Stop Words"
   ]
  },
  {
   "cell_type": "code",
   "execution_count": 348,
   "metadata": {},
   "outputs": [
    {
     "data": {
      "text/plain": [
       "0    024 pharma inc provides healthcare products wo...\n",
       "1    1800flowerscom inc together subsidiaries provi...\n",
       "2    12 retech corporation subsidiaries operates in...\n",
       "3    1347 property insurance holdings inc subsidiar...\n",
       "4    1847 holdings llc subsidiaries provides range ...\n",
       "Name: Business Description, dtype: object"
      ]
     },
     "execution_count": 348,
     "metadata": {},
     "output_type": "execute_result"
    }
   ],
   "source": [
    "from nltk.corpus import stopwords\n",
    "stop = stopwords.words('english')\n",
    "US1['Business Description'] = US1['Business Description'].apply(lambda x: \" \".join(x for x in x.split() if x not in stop))\n",
    "US1['Business Description'].head()"
   ]
  },
  {
   "cell_type": "markdown",
   "metadata": {},
   "source": [
    "### 4]Common word removal"
   ]
  },
  {
   "cell_type": "code",
   "execution_count": 349,
   "metadata": {},
   "outputs": [
    {
     "data": {
      "text/plain": [
       "company     18089\n",
       "inc         14193\n",
       "services    12980\n",
       "products    11060\n",
       "provides     7543\n",
       "offers       6769\n",
       "founded      6041\n",
       "well         5662\n",
       "also         5094\n",
       "operates     4900\n",
       "dtype: int64"
      ]
     },
     "execution_count": 349,
     "metadata": {},
     "output_type": "execute_result"
    }
   ],
   "source": [
    "freq = pd.Series(' '.join(US1['Business Description']).split()).value_counts()[:10]\n",
    "freq"
   ]
  },
  {
   "cell_type": "code",
   "execution_count": 350,
   "metadata": {},
   "outputs": [],
   "source": [
    "## let’s remove these words as their presence will not of any use in classification of our text data"
   ]
  },
  {
   "cell_type": "code",
   "execution_count": 351,
   "metadata": {},
   "outputs": [
    {
     "data": {
      "text/plain": [
       "0    024 pharma healthcare worldwide include vitami...\n",
       "1    1800flowerscom together subsidiaries gourmet f...\n",
       "2    12 retech corporation subsidiaries integrated ...\n",
       "3    1347 property insurance holdings subsidiaries ...\n",
       "4    1847 holdings llc subsidiaries range agricultu...\n",
       "Name: Business Description, dtype: object"
      ]
     },
     "execution_count": 351,
     "metadata": {},
     "output_type": "execute_result"
    }
   ],
   "source": [
    "freq = list(freq.index)\n",
    "US1['Business Description'] = US1['Business Description'].apply(lambda x: \" \".join(x for x in x.split() if x not in freq))\n",
    "US1['Business Description'].head()"
   ]
  },
  {
   "cell_type": "markdown",
   "metadata": {},
   "source": [
    "### 5] Rare words removal"
   ]
  },
  {
   "cell_type": "code",
   "execution_count": 352,
   "metadata": {},
   "outputs": [
    {
     "data": {
      "text/plain": [
       "medimat               1\n",
       "highlyconcentrated    1\n",
       "272                   1\n",
       "trellis               1\n",
       "roane                 1\n",
       "contentsentral        1\n",
       "paperweights          1\n",
       "meeker                1\n",
       "nonopiate             1\n",
       "cloudenabled          1\n",
       "dtype: int64"
      ]
     },
     "execution_count": 352,
     "metadata": {},
     "output_type": "execute_result"
    }
   ],
   "source": [
    "freq_rare = pd.Series(' '.join(US1['Business Description']).split()).value_counts()[-10:]\n",
    "freq_rare"
   ]
  },
  {
   "cell_type": "code",
   "execution_count": 353,
   "metadata": {},
   "outputs": [
    {
     "data": {
      "text/plain": [
       "0    024 pharma healthcare worldwide include vitami...\n",
       "1    1800flowerscom together subsidiaries gourmet f...\n",
       "2    12 retech corporation subsidiaries integrated ...\n",
       "3    1347 property insurance holdings subsidiaries ...\n",
       "4    1847 holdings llc subsidiaries range agricultu...\n",
       "Name: Business Description, dtype: object"
      ]
     },
     "execution_count": 353,
     "metadata": {},
     "output_type": "execute_result"
    }
   ],
   "source": [
    "freq_rare = list(freq_rare.index)\n",
    "US1['Business Description'] = US1['Business Description'].apply(lambda x: \" \".join(x for x in x.split() if x not in freq_rare))\n",
    "US1['Business Description'].head()"
   ]
  },
  {
   "cell_type": "markdown",
   "metadata": {},
   "source": [
    "### 6] Spelling correction"
   ]
  },
  {
   "cell_type": "code",
   "execution_count": 354,
   "metadata": {},
   "outputs": [],
   "source": [
    "#pip install textblob"
   ]
  },
  {
   "cell_type": "code",
   "execution_count": 355,
   "metadata": {},
   "outputs": [
    {
     "data": {
      "text/plain": [
       "0    024 parma healthcare worldwide include vitamin...\n",
       "1    1800flowerscom together subsidiaries gourmet f...\n",
       "2    12 reach corporation subsidiaries integrated r...\n",
       "3    1347 property insurance holdings subsidiaries ...\n",
       "4    1847 holdings ll subsidiaries range agricultur...\n",
       "Name: Business Description, dtype: object"
      ]
     },
     "execution_count": 355,
     "metadata": {},
     "output_type": "execute_result"
    }
   ],
   "source": [
    "from textblob import TextBlob\n",
    "US1['Business Description'][:5].apply(lambda x: str(TextBlob(x).correct()))"
   ]
  },
  {
   "cell_type": "markdown",
   "metadata": {},
   "source": [
    "### 7] Tokenization"
   ]
  },
  {
   "cell_type": "code",
   "execution_count": 356,
   "metadata": {},
   "outputs": [
    {
     "data": {
      "text/plain": [
       "WordList(['12', 'retech', 'corporation', 'subsidiaries', 'integrated', 'retail', 'platform', 'asia', 'north', 'america', 'europe', 'platform', 'includes', '12mirror', 'instore', 'application', 'recognizes', 'clothes', 'person', 'fitting', 'takes', 'pictures', 'shared', 'friends', 'family', 'detects', 'gives', 'information', 'collects', 'data', 'consumers', 'shop', 'designer', 'manufacturer', '12kiosk', 'instore', 'application', 'browses', 'detects', 'information', 'place', 'orders', 'consumers', 'platform', '12adscreen', 'twoway', 'screen', 'voice', 'touch', 'capability', 'detects', 'people', 'front', 'screen', 'information', 'store', 'andor', 'download', 'advertised', 'pictures', 'videos', '12mobile', 'app', 'ecommerce', 'application', 'find', 'make', 'reservations', 'pay', 'purchases', 'addition', 'platform', 'staffsales', 'app', 'application', 'vendors', 'communicate', 'system', 'checking', 'product', 'information', 'inventory', 'location', '12sconti', 'app', 'helps', 'reducing', 'food', 'waste', '12', 'retech', 'corporation', 'based', 'carson', 'city', 'nevada'])"
      ]
     },
     "execution_count": 356,
     "metadata": {},
     "output_type": "execute_result"
    }
   ],
   "source": [
    "TextBlob(US1['Business Description'][2]).words"
   ]
  },
  {
   "cell_type": "markdown",
   "metadata": {},
   "source": [
    "### 8] Stemming "
   ]
  },
  {
   "cell_type": "code",
   "execution_count": 357,
   "metadata": {},
   "outputs": [
    {
     "data": {
      "text/plain": [
       "0       024 pharma healthcar worldwid includ vitamin m...\n",
       "1       1800flowerscom togeth subsidiari gourmet food ...\n",
       "2       12 retech corpor subsidiari integr retail plat...\n",
       "3       1347 properti insur hold subsidiari properti c...\n",
       "4       1847 hold llc subsidiari rang agricultur const...\n",
       "                              ...                        \n",
       "8420    yappn corp languag translat realtim languag tr...\n",
       "8421    yasheng group subsidiari design develop manufa...\n",
       "8422    zenergi brand energi technolog engag sale ener...\n",
       "8423    zulutek internet advertis zulutek formerli kno...\n",
       "8424    zurvita hold market health well unit state hon...\n",
       "Name: Business Description, Length: 8425, dtype: object"
      ]
     },
     "execution_count": 357,
     "metadata": {},
     "output_type": "execute_result"
    }
   ],
   "source": [
    "from nltk.stem import PorterStemmer\n",
    "st = PorterStemmer()\n",
    "US1['Business Description'].apply(lambda x: \" \".join([st.stem(word) for word in x.split()]))"
   ]
  },
  {
   "cell_type": "markdown",
   "metadata": {},
   "source": [
    "### 9] Lemmatization"
   ]
  },
  {
   "cell_type": "code",
   "execution_count": 358,
   "metadata": {},
   "outputs": [
    {
     "data": {
      "text/plain": [
       "0    024 pharma healthcare worldwide include vitami...\n",
       "1    1800flowerscom together subsidiary gourmet foo...\n",
       "2    12 retech corporation subsidiary integrated re...\n",
       "3    1347 property insurance holding subsidiary pro...\n",
       "4    1847 holding llc subsidiary range agriculture ...\n",
       "Name: Business Description, dtype: object"
      ]
     },
     "execution_count": 358,
     "metadata": {},
     "output_type": "execute_result"
    }
   ],
   "source": [
    "from textblob import Word\n",
    "US1['Business Description'] = US1['Business Description'].apply(lambda x: \" \".join([Word(word).lemmatize() for word in x.split()]))\n",
    "US1['Business Description'].head()"
   ]
  },
  {
   "cell_type": "markdown",
   "metadata": {},
   "source": [
    "## TF_IDF"
   ]
  },
  {
   "cell_type": "code",
   "execution_count": 359,
   "metadata": {},
   "outputs": [],
   "source": [
    "X = US1['Business Description']"
   ]
  },
  {
   "cell_type": "code",
   "execution_count": 360,
   "metadata": {
    "scrolled": true
   },
   "outputs": [
    {
     "data": {
      "text/plain": [
       "(8425, 12826)"
      ]
     },
     "execution_count": 360,
     "metadata": {},
     "output_type": "execute_result"
    }
   ],
   "source": [
    "from sklearn.feature_extraction.text import TfidfVectorizer\n",
    "feature = tfidf.transform(X)\n",
    "feature.shape"
   ]
  },
  {
   "cell_type": "code",
   "execution_count": 361,
   "metadata": {},
   "outputs": [
    {
     "name": "stdout",
     "output_type": "stream",
     "text": [
      "(8425, 12826)\n"
     ]
    }
   ],
   "source": [
    "print(feature.shape)"
   ]
  },
  {
   "cell_type": "code",
   "execution_count": 362,
   "metadata": {},
   "outputs": [
    {
     "data": {
      "text/plain": [
       "matrix([[0., 0., 0., ..., 0., 0., 0.],\n",
       "        [0., 0., 0., ..., 0., 0., 0.],\n",
       "        [0., 0., 0., ..., 0., 0., 0.],\n",
       "        ...,\n",
       "        [0., 0., 0., ..., 0., 0., 0.],\n",
       "        [0., 0., 0., ..., 0., 0., 0.],\n",
       "        [0., 0., 0., ..., 0., 0., 0.]])"
      ]
     },
     "execution_count": 362,
     "metadata": {},
     "output_type": "execute_result"
    }
   ],
   "source": [
    "feature.todense()"
   ]
  },
  {
   "cell_type": "code",
   "execution_count": 363,
   "metadata": {
    "scrolled": true
   },
   "outputs": [],
   "source": [
    "x = feature.todense()"
   ]
  },
  {
   "cell_type": "code",
   "execution_count": 364,
   "metadata": {},
   "outputs": [],
   "source": [
    "y = SVM.predict(x)"
   ]
  },
  {
   "cell_type": "code",
   "execution_count": 365,
   "metadata": {},
   "outputs": [
    {
     "data": {
      "text/plain": [
       "array(['Healthcare', 'Consumer_Discretionary', 'Information_Technology',\n",
       "       ..., 'Capital Goods', 'Consumer_Discretionary', 'Healthcare'],\n",
       "      dtype=object)"
      ]
     },
     "execution_count": 365,
     "metadata": {},
     "output_type": "execute_result"
    }
   ],
   "source": [
    "y"
   ]
  },
  {
   "cell_type": "code",
   "execution_count": 366,
   "metadata": {},
   "outputs": [],
   "source": [
    "US1['Predict']=pd.Series(y)"
   ]
  },
  {
   "cell_type": "code",
   "execution_count": 367,
   "metadata": {},
   "outputs": [
    {
     "data": {
      "text/html": [
       "<div>\n",
       "<style scoped>\n",
       "    .dataframe tbody tr th:only-of-type {\n",
       "        vertical-align: middle;\n",
       "    }\n",
       "\n",
       "    .dataframe tbody tr th {\n",
       "        vertical-align: top;\n",
       "    }\n",
       "\n",
       "    .dataframe thead th {\n",
       "        text-align: right;\n",
       "    }\n",
       "</style>\n",
       "<table border=\"1\" class=\"dataframe\">\n",
       "  <thead>\n",
       "    <tr style=\"text-align: right;\">\n",
       "      <th></th>\n",
       "      <th>Company Name</th>\n",
       "      <th>Exchange:Ticker</th>\n",
       "      <th>Company Type</th>\n",
       "      <th>Company Status</th>\n",
       "      <th>Geographic Locations</th>\n",
       "      <th>Business Description</th>\n",
       "      <th>Security Tickers</th>\n",
       "      <th>Predict</th>\n",
       "    </tr>\n",
       "  </thead>\n",
       "  <tbody>\n",
       "    <tr>\n",
       "      <td>0</td>\n",
       "      <td>024 Pharma, Inc. (OTCPK:EEIG)</td>\n",
       "      <td>OTCPK:EEIG</td>\n",
       "      <td>Public Company</td>\n",
       "      <td>Operating</td>\n",
       "      <td>United States of America (Primary)</td>\n",
       "      <td>024 pharma healthcare worldwide include vitami...</td>\n",
       "      <td>OTCPK:EEIG</td>\n",
       "      <td>Healthcare</td>\n",
       "    </tr>\n",
       "    <tr>\n",
       "      <td>1</td>\n",
       "      <td>1-800-FLOWERS.COM, Inc. (NasdaqGS:FLWS)</td>\n",
       "      <td>NasdaqGS:FLWS</td>\n",
       "      <td>Public Company</td>\n",
       "      <td>Operating</td>\n",
       "      <td>United States of America (Primary)</td>\n",
       "      <td>1800flowerscom together subsidiary gourmet foo...</td>\n",
       "      <td>NasdaqGS:FLWS; DB:FWC</td>\n",
       "      <td>Consumer_Discretionary</td>\n",
       "    </tr>\n",
       "    <tr>\n",
       "      <td>2</td>\n",
       "      <td>12 Retech Corporation (OTCPK:RETC)</td>\n",
       "      <td>OTCPK:RETC</td>\n",
       "      <td>Public Company</td>\n",
       "      <td>Operating</td>\n",
       "      <td>United States of America (Primary)</td>\n",
       "      <td>12 retech corporation subsidiary integrated re...</td>\n",
       "      <td>OTCPK:RETC</td>\n",
       "      <td>Information_Technology</td>\n",
       "    </tr>\n",
       "    <tr>\n",
       "      <td>3</td>\n",
       "      <td>1347 Property Insurance Holdings, Inc. (Nasdaq...</td>\n",
       "      <td>NasdaqGM:PIH</td>\n",
       "      <td>Public Company</td>\n",
       "      <td>Operating</td>\n",
       "      <td>United States of America (Primary)</td>\n",
       "      <td>1347 property insurance holding subsidiary pro...</td>\n",
       "      <td>NasdaqGM:PIH</td>\n",
       "      <td>Consumer_Discretionary</td>\n",
       "    </tr>\n",
       "    <tr>\n",
       "      <td>4</td>\n",
       "      <td>1847 Holdings LLC (OTCPK:EFSH)</td>\n",
       "      <td>OTCPK:EFSH</td>\n",
       "      <td>Public Company</td>\n",
       "      <td>Operating</td>\n",
       "      <td>United States of America (Primary)</td>\n",
       "      <td>1847 holding llc subsidiary range agriculture ...</td>\n",
       "      <td>OTCPK:EFSH</td>\n",
       "      <td>Commercial_and_Professional _ervices</td>\n",
       "    </tr>\n",
       "  </tbody>\n",
       "</table>\n",
       "</div>"
      ],
      "text/plain": [
       "                                        Company Name Exchange:Ticker  \\\n",
       "0                      024 Pharma, Inc. (OTCPK:EEIG)      OTCPK:EEIG   \n",
       "1            1-800-FLOWERS.COM, Inc. (NasdaqGS:FLWS)   NasdaqGS:FLWS   \n",
       "2                 12 Retech Corporation (OTCPK:RETC)      OTCPK:RETC   \n",
       "3  1347 Property Insurance Holdings, Inc. (Nasdaq...    NasdaqGM:PIH   \n",
       "4                     1847 Holdings LLC (OTCPK:EFSH)      OTCPK:EFSH   \n",
       "\n",
       "     Company Type Company Status                Geographic Locations  \\\n",
       "0  Public Company      Operating  United States of America (Primary)   \n",
       "1  Public Company      Operating  United States of America (Primary)   \n",
       "2  Public Company      Operating  United States of America (Primary)   \n",
       "3  Public Company      Operating  United States of America (Primary)   \n",
       "4  Public Company      Operating  United States of America (Primary)   \n",
       "\n",
       "                                Business Description       Security Tickers  \\\n",
       "0  024 pharma healthcare worldwide include vitami...             OTCPK:EEIG   \n",
       "1  1800flowerscom together subsidiary gourmet foo...  NasdaqGS:FLWS; DB:FWC   \n",
       "2  12 retech corporation subsidiary integrated re...             OTCPK:RETC   \n",
       "3  1347 property insurance holding subsidiary pro...           NasdaqGM:PIH   \n",
       "4  1847 holding llc subsidiary range agriculture ...             OTCPK:EFSH   \n",
       "\n",
       "                                Predict  \n",
       "0                            Healthcare  \n",
       "1                Consumer_Discretionary  \n",
       "2                Information_Technology  \n",
       "3                Consumer_Discretionary  \n",
       "4  Commercial_and_Professional _ervices  "
      ]
     },
     "execution_count": 367,
     "metadata": {},
     "output_type": "execute_result"
    }
   ],
   "source": [
    "US1.head()"
   ]
  },
  {
   "cell_type": "code",
   "execution_count": 368,
   "metadata": {},
   "outputs": [],
   "source": [
    "US1.to_excel('predict.xlsx')"
   ]
  },
  {
   "cell_type": "code",
   "execution_count": null,
   "metadata": {},
   "outputs": [],
   "source": []
  },
  {
   "cell_type": "code",
   "execution_count": null,
   "metadata": {},
   "outputs": [],
   "source": []
  },
  {
   "cell_type": "code",
   "execution_count": null,
   "metadata": {},
   "outputs": [],
   "source": []
  },
  {
   "cell_type": "code",
   "execution_count": null,
   "metadata": {},
   "outputs": [],
   "source": []
  },
  {
   "cell_type": "code",
   "execution_count": null,
   "metadata": {},
   "outputs": [],
   "source": []
  },
  {
   "cell_type": "code",
   "execution_count": null,
   "metadata": {},
   "outputs": [],
   "source": []
  },
  {
   "cell_type": "code",
   "execution_count": null,
   "metadata": {},
   "outputs": [],
   "source": []
  },
  {
   "cell_type": "code",
   "execution_count": null,
   "metadata": {},
   "outputs": [],
   "source": []
  },
  {
   "cell_type": "code",
   "execution_count": null,
   "metadata": {},
   "outputs": [],
   "source": []
  },
  {
   "cell_type": "code",
   "execution_count": null,
   "metadata": {},
   "outputs": [],
   "source": []
  },
  {
   "cell_type": "code",
   "execution_count": null,
   "metadata": {},
   "outputs": [],
   "source": []
  }
 ],
 "metadata": {
  "kernelspec": {
   "display_name": "Python 3",
   "language": "python",
   "name": "python3"
  },
  "language_info": {
   "codemirror_mode": {
    "name": "ipython",
    "version": 3
   },
   "file_extension": ".py",
   "mimetype": "text/x-python",
   "name": "python",
   "nbconvert_exporter": "python",
   "pygments_lexer": "ipython3",
   "version": "3.7.4"
  }
 },
 "nbformat": 4,
 "nbformat_minor": 2
}
